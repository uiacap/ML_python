{
  "nbformat": 4,
  "nbformat_minor": 0,
  "metadata": {
    "colab": {
      "provenance": [],
      "include_colab_link": true
    },
    "kernelspec": {
      "name": "python3",
      "display_name": "Python 3"
    },
    "language_info": {
      "name": "python"
    }
  },
  "cells": [
    {
      "cell_type": "markdown",
      "metadata": {
        "id": "view-in-github",
        "colab_type": "text"
      },
      "source": [
        "<a href=\"https://colab.research.google.com/github/uiacap/ML_python/blob/main/notes/ML_python_09_Class_intro.ipynb\" target=\"_parent\"><img src=\"https://colab.research.google.com/assets/colab-badge.svg\" alt=\"Open In Colab\"/></a>"
      ]
    },
    {
      "cell_type": "markdown",
      "source": [
        "<div dir=rtl>\n",
        "برای تعریف کلاس ازکلمه کلیدی class استفاده می کنیم.\n",
        "</div>"
      ],
      "metadata": {
        "id": "Sb5UDyNF55gk"
      }
    },
    {
      "cell_type": "code",
      "source": [
        "l = [1,23,4]\n",
        "print(type(l))\n",
        "l.append(23)"
      ],
      "metadata": {
        "colab": {
          "base_uri": "https://localhost:8080/"
        },
        "id": "Mqzg9oxFGj3O",
        "outputId": "6ff19ffe-9466-42d5-d654-8c6297cf379d"
      },
      "execution_count": null,
      "outputs": [
        {
          "output_type": "stream",
          "name": "stdout",
          "text": [
            "<class 'list'>\n"
          ]
        }
      ]
    },
    {
      "cell_type": "code",
      "source": [
        "class User:\n",
        "  pass\n",
        "\n",
        "\n",
        "u1 = User()\n",
        "print(type(u1))\n",
        "u1.name = 'Ali'\n",
        "\n",
        "print(u1.name)\n",
        "\n",
        "u2 = User()\n",
        "u2.avg = 19\n",
        "\n",
        "print(u2.avg)\n",
        "print(u2.name)"
      ],
      "metadata": {
        "id": "AX0uEOH85rXc"
      },
      "execution_count": null,
      "outputs": []
    },
    {
      "cell_type": "markdown",
      "source": [
        "<div dir=rtl>\n",
        "تعریف تابع برای شئ (method)\n",
        "</br>\n",
        "برای هر کلاس می توان تابع که به آن method می گویند تعریف کرد.\n",
        "</br>\n",
        "به وسیله متدها عملی روی ویژگی های کلاس انجام می شود.\n",
        "</br>\n",
        "برای تعریف متد، باید یک تابع درون کلاس تعریف کرد.\n",
        "</br>\n",
        "اولین ورودی این تابع باید self باشد.\n",
        "</br>\n",
        "self نام یک متغیر پیش فرض است که هنگامی که متد روی یک شی فراخوانی می شود، مقدار متغیر self برابر با آن شی قرار می گیرد.\n",
        "و بدین شکل هر متد می تواند ویژگی های شی ای را که روی آن فراخوانی شده است را تغییر دهد.\n",
        "</br>\n",
        "فرض کنید که در مثال بالا میخواهیم یک تابع برای کلاس User بنویسیم که بررسی کند که آیا password وارد شده قوی هست یا خیر؟\n",
        "</br>\n",
        "یک تابع بنویسیم که مقدار password را در صورتیکه قوی است، ست کند\n",
        "</div>\n"
      ],
      "metadata": {
        "id": "HjVe9GEg7ppo"
      }
    },
    {
      "cell_type": "code",
      "source": [
        "# password shoud have upper charachters, lower characters, digits and other carachters\n",
        "# check_strength\n",
        "\n",
        "class User() :\n",
        "\n",
        "  def set_name(self,name) :\n",
        "    self.name = name\n",
        "\n",
        "\n",
        "user = User()\n",
        "user.set_name(\"abcd\")\n",
        "print(user.name)\n",
        "\n",
        "user2 = User()\n",
        "print(user2.name)\n",
        "\n"
      ],
      "metadata": {
        "id": "7_YL4TwJ9bzF"
      },
      "execution_count": null,
      "outputs": []
    },
    {
      "cell_type": "markdown",
      "source": [
        "<div dir=rtl>\n",
        "تابع سازنده (constructor)\n",
        "</br>\n",
        "در صورتیکه بخواهیم هنگام ساخته شدن اشیا یک کلاس، ویژگی هایی به آنها اختصاص داده شود باید این ویژگی ها را در متد __init__ مقداردهی کنیم.\n",
        "</br>\n",
        "این متد در هنگام ساخته شدن شی از یک کلاس صدا زده می شود.\n",
        "به عنوان ورودی می توانیم ویژگی های مورد نظر را به این متد بدهیم.\n",
        "</br>\n",
        "مثال: فرض کنید میخواهیم برای کلاس user دو ویژگی نام و password را ست کنیم\n",
        "</br>\n",
        "به طوریکه password مقدار پیش فرض 1234 را بگیرد.\n",
        "</div>"
      ],
      "metadata": {
        "id": "jmGdr14R7GqP"
      }
    },
    {
      "cell_type": "code",
      "source": [
        "class User :\n",
        "\n",
        "  def __init__(self,name1,password1) :\n",
        "    self.name = name1\n",
        "    self.password = password1\n",
        "\n",
        "  def get_name(self) :\n",
        "    return self.name\n",
        "\n",
        "user1 = User(\"ali\",\"ABCD\")\n",
        "user2 = User(\"Ali2\",\"abcde\")\n",
        "\n",
        "print(user1.name)\n",
        "print(user2.name)\n",
        "print(user1.get_name())"
      ],
      "metadata": {
        "id": "zIohV0__7_ph",
        "colab": {
          "base_uri": "https://localhost:8080/"
        },
        "outputId": "e87f65f0-cd74-457e-d914-5cfa7654b20f"
      },
      "execution_count": null,
      "outputs": [
        {
          "output_type": "stream",
          "name": "stdout",
          "text": [
            "ali\n",
            "Ali2\n",
            "ali\n"
          ]
        }
      ]
    },
    {
      "cell_type": "markdown",
      "source": [
        "<div dir=rtl>\n",
        "مثال:\n",
        "</br>\n",
        "میخواهیم برای یک کتاب فروشی برنامه بنویسیم.\n",
        "در این برنامه دو شی تعریف می کنیم\n",
        "</br>\n",
        "book و bookstore\n",
        "</br>\n",
        "کلاس book ویژگی های name, amount, price دارد.\n",
        "و در هنگام ساخته شدن باید این مقادیر برای کتاب set شوند.\n",
        "</br>\n",
        "کلاس bookstore\n",
        "مربوط به فروشگاه کتاب است .\n",
        "</br>\n",
        "فروشگاه دارای ویژگی های نام و لیستی از کتاب ها(books) و لیست از کارکنان (employees) می باشد\n",
        "</br>\n",
        "متد add_book:\n",
        "</br>\n",
        "این متد به عنوان ورودی یک شی از نوع کتاب گرفته و آنرا به لیست کتاب های موجود اضافه می کند.\n",
        "</br>\n",
        "متد add_employee\n",
        "</br>\n",
        "این تابع نام، نام خانوادگی و سن کارمند را گرفته و در قالب یک دیکشنری به لیست کارمندان اضافه می کند.\n",
        "</br>\n",
        "متد total_value\n",
        "</br>\n",
        "مجموع قیمت تمام کتاب های کتاب فروشی را برمی گرداند.\n",
        "مجموع قیمت حاصل جمع amout*price است\n",
        "</br>\n",
        "متد employee_summary\n",
        "</br>\n",
        "خلاصه ای از اطلاعات کارمندان کتاب فروشی را چاپ می کند.\n",
        "</br>\n",
        "ٍEmployees :\n",
        "</br>\n",
        "The employee number {i} is {firstname} {lastname} who is {age} years old.\n",
        "</div>"
      ],
      "metadata": {
        "id": "hwR-WXI8GZIj"
      }
    }
  ]
}