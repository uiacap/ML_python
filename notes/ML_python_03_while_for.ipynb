{
  "nbformat": 4,
  "nbformat_minor": 0,
  "metadata": {
    "colab": {
      "provenance": [],
      "include_colab_link": true
    },
    "kernelspec": {
      "name": "python3",
      "display_name": "Python 3"
    },
    "language_info": {
      "name": "python"
    }
  },
  "cells": [
    {
      "cell_type": "markdown",
      "metadata": {
        "id": "view-in-github",
        "colab_type": "text"
      },
      "source": [
        "<a href=\"https://colab.research.google.com/github/uiacap/ML_python/blob/main/notes/ML_python_03_while_for.ipynb\" target=\"_parent\"><img src=\"https://colab.research.google.com/assets/colab-badge.svg\" alt=\"Open In Colab\"/></a>"
      ]
    },
    {
      "cell_type": "markdown",
      "source": [
        "<div dir=rtl>\n",
        "برای ایجاد حلقه های تکرار از while و for استفاده می کنیم.\n",
        "</br>\n",
        "while condition :\n",
        "</br>\n",
        "  (while block)\n",
        "\n",
        "</div>"
      ],
      "metadata": {
        "id": "T4py6wIymBCd"
      }
    },
    {
      "cell_type": "markdown",
      "source": [
        "<div dir=rtl>\n",
        "حلقه for و تابع range:\n",
        "</br>\n",
        "در صورتیکه بخواهیم، یک حلقه به تعداد مشخص تکرار شود از حلقه for استفاده می کنیم.\n",
        "</br>\n",
        "در پایتون این کار را با استفاده از حلقه for و تابع range انجام می دهیم.\n",
        "\n",
        "\n",
        "</div>"
      ],
      "metadata": {
        "id": "IswKI4K6oCyU"
      }
    },
    {
      "cell_type": "code",
      "source": [
        "for (a variable name) in range(n,[m,s])\n",
        "  (for block)"
      ],
      "metadata": {
        "id": "7Fos1EoQFcSJ"
      },
      "execution_count": null,
      "outputs": []
    },
    {
      "cell_type": "code",
      "source": [
        "n = int(input())\n",
        "print('My name is')\n",
        "for i in range(n):\n",
        "  print('Jimmy Five Times (' + str(i) + ')')"
      ],
      "metadata": {
        "id": "6kZAiHn7Fo7d"
      },
      "execution_count": null,
      "outputs": []
    },
    {
      "cell_type": "markdown",
      "source": [
        "<div dir=rtl>\n",
        "range(n) : دنباله ای از اعداد صحیح که از 0 شروع شده و با n-1 خاتمه می یابد.\n",
        "</br>\n",
        "range(n,m) : دنباله ای از اعداد صحیح که از n شروع شده و با m-1 خاتمه می باید.\n",
        "</br>\n",
        "range(n,m,s) : دنباله ای از اعداد صحیح که از n شروع شده و حداکثر با m-1 خاتمه می یابد و\n",
        "اعداد s تا s تا اضافه می شوند.\n",
        "</br>\n",
        "</div>"
      ],
      "metadata": {
        "id": "HO4eNalmG1PH"
      }
    },
    {
      "cell_type": "code",
      "source": [
        "for i in range(10) :\n",
        "  print(i,end=\" \")"
      ],
      "metadata": {
        "id": "WppaRacHHnJF",
        "colab": {
          "base_uri": "https://localhost:8080/"
        },
        "outputId": "91e42fc2-cb98-4da4-e500-b3f0997961dd"
      },
      "execution_count": null,
      "outputs": [
        {
          "output_type": "stream",
          "name": "stdout",
          "text": [
            "0 1 2 3 4 5 6 7 8 9 "
          ]
        }
      ]
    },
    {
      "cell_type": "code",
      "source": [
        "for i in range(-1) :\n",
        "  print(i, end=\" \")"
      ],
      "metadata": {
        "id": "-jcCYfofI4t4"
      },
      "execution_count": null,
      "outputs": []
    },
    {
      "cell_type": "code",
      "source": [
        "for i in range(1,-1) :\n",
        "  print(i, end=\" \")"
      ],
      "metadata": {
        "id": "Q-UXrfTVJAoU"
      },
      "execution_count": null,
      "outputs": []
    },
    {
      "cell_type": "code",
      "source": [
        "for i in range(-1,3):\n",
        "  print(i, end=\" \")"
      ],
      "metadata": {
        "id": "HDjjDjsmJHZ9",
        "colab": {
          "base_uri": "https://localhost:8080/"
        },
        "outputId": "7cf8f6af-c6cc-47a9-d6da-0ed76632239b"
      },
      "execution_count": null,
      "outputs": [
        {
          "output_type": "stream",
          "name": "stdout",
          "text": [
            "-1 0 1 2 "
          ]
        }
      ]
    },
    {
      "cell_type": "code",
      "source": [
        "for i in range(2, 10, 3):\n",
        "  print(i, end=\" \")"
      ],
      "metadata": {
        "id": "WJgRTiosJPFy",
        "colab": {
          "base_uri": "https://localhost:8080/"
        },
        "outputId": "c55a4381-b029-4a0f-80c5-7f35a123fd7a"
      },
      "execution_count": null,
      "outputs": [
        {
          "output_type": "stream",
          "name": "stdout",
          "text": [
            "2 5 8 "
          ]
        }
      ]
    },
    {
      "cell_type": "code",
      "source": [
        "for i in range(2, 10, -3):\n",
        "  print(i, end=\" \")"
      ],
      "metadata": {
        "id": "cf6kH23gJtDl"
      },
      "execution_count": null,
      "outputs": []
    },
    {
      "cell_type": "code",
      "source": [
        "for i in range(10, 2, -3):\n",
        "  print(i, end=\" \")"
      ],
      "metadata": {
        "id": "qSN1PlU5J0cd",
        "colab": {
          "base_uri": "https://localhost:8080/"
        },
        "outputId": "5968f40e-78e0-4fc1-9264-d00c871be17e"
      },
      "execution_count": null,
      "outputs": [
        {
          "output_type": "stream",
          "name": "stdout",
          "text": [
            "10 7 4 "
          ]
        }
      ]
    },
    {
      "cell_type": "code",
      "source": [
        "for i in range(-1,5, -1):\n",
        "  print(i, end= \" \")"
      ],
      "metadata": {
        "id": "Gjs05P3GJ-0O"
      },
      "execution_count": null,
      "outputs": []
    },
    {
      "cell_type": "markdown",
      "source": [
        "<div dir=rtl>\n",
        "برنامه ای بنویسید که عددی را از ورودی گرفته و فاکتوریل آن را چاپ کند.\n",
        "</div>"
      ],
      "metadata": {
        "id": "gClbJDeXRAYl"
      }
    },
    {
      "cell_type": "code",
      "source": [],
      "metadata": {
        "id": "AS5AX6RARKmt"
      },
      "execution_count": null,
      "outputs": []
    },
    {
      "cell_type": "markdown",
      "source": [
        "<div dir=rtl>\n",
        "سوال: برنامه ای بنویسید که عددی را خوانده و تشخیص بدهد عدد کامل است یا خیر؟\n",
        "</div>\n",
        "\n"
      ],
      "metadata": {
        "id": "CYXPaxn-cFn6"
      }
    },
    {
      "cell_type": "code",
      "source": [],
      "metadata": {
        "id": "BNSWW8R9cbwH"
      },
      "execution_count": null,
      "outputs": []
    },
    {
      "cell_type": "markdown",
      "source": [
        "<div dir = rtl>\n",
        "برنامه ای بنویسید که اعداد کامل کمتر از 10000 را چاپ کند\n",
        "</div>"
      ],
      "metadata": {
        "id": "Ehd27izV_uXD"
      }
    },
    {
      "cell_type": "code",
      "source": [
        "\n",
        "\n"
      ],
      "metadata": {
        "id": "C7YQyVXX_tMB"
      },
      "execution_count": null,
      "outputs": []
    },
    {
      "cell_type": "markdown",
      "source": [
        "<div dir=rtl>\n",
        "سوال : برنامه ای بنویسید که عدد را از ورودی خوانده و دنباله فیبوناچی تا آن عدد را حساب کند.\n",
        "</div>"
      ],
      "metadata": {
        "id": "ajSHtc1YV0g0"
      }
    },
    {
      "cell_type": "code",
      "source": [
        "\n"
      ],
      "metadata": {
        "id": "EXHawQxBJ5L6"
      },
      "execution_count": null,
      "outputs": []
    },
    {
      "cell_type": "markdown",
      "source": [
        "<div dir = rtl>\n",
        "برنامه ای بنویسید که n را از ورودی خوانده و جدول ضرب اعداد از 1 تا n را چاپ کند.\n",
        "</div>"
      ],
      "metadata": {
        "id": "nuqq5R97KKQ1"
      }
    },
    {
      "cell_type": "code",
      "source": [
        "\n"
      ],
      "metadata": {
        "id": "ox6Cc41QQj40"
      },
      "execution_count": null,
      "outputs": []
    },
    {
      "cell_type": "markdown",
      "source": [
        "<div dir=rtl>\n",
        "سوال: عددی را بخواند و از عدد 1 تا آن عدد را چاپ کند.\n",
        "</div>"
      ],
      "metadata": {
        "id": "VfkLQlzAyhgO"
      }
    },
    {
      "cell_type": "code",
      "source": [
        "\n"
      ],
      "metadata": {
        "id": "Ym_tmsr_yoev"
      },
      "execution_count": null,
      "outputs": []
    },
    {
      "cell_type": "markdown",
      "source": [
        "<div dir=rtl>\n",
        "سوال: برنامه ای بنویسید که عددی را خوانده و مجموع مقسوم علیه های آنرا چاپ کند.\n",
        "</div>"
      ],
      "metadata": {
        "id": "hzYlvj3EywMy"
      }
    },
    {
      "cell_type": "code",
      "source": [],
      "metadata": {
        "id": "XqHvOnqazLzO"
      },
      "execution_count": null,
      "outputs": []
    },
    {
      "cell_type": "markdown",
      "source": [
        "<div dir=rtl>\n",
        "با استفاده از دستور break می توانیم، از یک حلقه تکرار خارج شویم.\n",
        "</br>\n",
        "هنگامی که کنترل به دستور break که در داخل یک حلقه تکرار قرار داده شده است، برسد\n",
        "</br>\n",
        "به اولین دستور بعد از حلقه تکرار منقل خواهد شد. و آن دستور را اجرا می کند.\n",
        "</div>"
      ],
      "metadata": {
        "id": "Kfz8sx0yzMb4"
      }
    },
    {
      "cell_type": "markdown",
      "source": [
        "<div dir=rtl>\n",
        "برنامه ای بنویسید که تا وقتی کاربر عدد 0 را وارد نکرده است از او عدد بگیرد.\n",
        "و سپس میانگین، بزرگترین و کوچکترین این اعداد را به دست آورد.\n",
        "</div>"
      ],
      "metadata": {
        "id": "4dXilP8FzP6W"
      }
    },
    {
      "cell_type": "code",
      "source": [],
      "metadata": {
        "id": "2ZqazH6WziTF"
      },
      "execution_count": null,
      "outputs": []
    }
  ]
}