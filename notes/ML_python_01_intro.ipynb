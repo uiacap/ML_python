{
  "nbformat": 4,
  "nbformat_minor": 0,
  "metadata": {
    "colab": {
      "provenance": [],
      "include_colab_link": true
    },
    "kernelspec": {
      "name": "python3",
      "display_name": "Python 3"
    },
    "language_info": {
      "name": "python"
    }
  },
  "cells": [
    {
      "cell_type": "markdown",
      "metadata": {
        "id": "view-in-github",
        "colab_type": "text"
      },
      "source": [
        "<a href=\"https://colab.research.google.com/github/uiacap/ML_python/blob/main/notes/ML_python_01_intro.ipynb\" target=\"_parent\"><img src=\"https://colab.research.google.com/assets/colab-badge.svg\" alt=\"Open In Colab\"/></a>"
      ]
    },
    {
      "cell_type": "markdown",
      "source": [
        "<div dir=rtl>\n",
        "زبان برنامه نویسی پایتون\n",
        "</div>\n",
        "\n",
        "\n"
      ],
      "metadata": {
        "id": "Tw04vsP5OJbp"
      }
    },
    {
      "cell_type": "markdown",
      "source": [
        "\n",
        "<div dir=rtl>\n",
        "استفاده از پوسته تعاملی پایتون interactive shell:\n",
        "</br>\n",
        "با استفاده از پوسته تعاملی می توان دستورات را یکی یکی به مفسر داد و در لحظه حاصل اجرای آنرا مشاهده کرد\n",
        "</br>\n",
        "دستور زیر را  اجرا کنید:\n",
        "</div>"
      ],
      "metadata": {
        "id": "v1ToGDTnOoSI"
      }
    },
    {
      "cell_type": "code",
      "source": [
        "print('Hello, world!')"
      ],
      "metadata": {
        "colab": {
          "base_uri": "https://localhost:8080/"
        },
        "id": "rvjfHWiNP-_3",
        "outputId": "d80ad8a4-161d-4d70-df74-679f822dcc3e"
      },
      "execution_count": null,
      "outputs": [
        {
          "output_type": "stream",
          "name": "stdout",
          "text": [
            "Hello, world!\n"
          ]
        }
      ]
    },
    {
      "cell_type": "code",
      "source": [
        "2+2"
      ],
      "metadata": {
        "id": "qnPx7XJ3Sw6X",
        "colab": {
          "base_uri": "https://localhost:8080/"
        },
        "outputId": "c3edc0e7-6f7d-4bcf-8ac2-75b24d8b21de"
      },
      "execution_count": null,
      "outputs": [
        {
          "output_type": "execute_result",
          "data": {
            "text/plain": [
              "4"
            ]
          },
          "metadata": {},
          "execution_count": 3
        }
      ]
    },
    {
      "cell_type": "code",
      "source": [],
      "metadata": {
        "id": "b5z7TyZXpgDl"
      },
      "execution_count": null,
      "outputs": []
    },
    {
      "cell_type": "markdown",
      "source": [
        "<div dir=rtl>\n",
        "به 2+2 یک عبارت(expression) می گوییم\n",
        "</br>\n",
        "عبارت ابتدایی ترین دستور برنامه نویسی است\n",
        "عبارت ها از مقادیر (value) مثل 2\n",
        "یا عملگر مثل + تشکیل شده اند\n",
        "</br>\n",
        "عبارت ها به یک مقدار ارزیابی می شوند و این بدان معنا است که شما در هر جایی از دستورات پایتون که یک مقدار دارید می توانید یک عبارت قرار دهید\n",
        "</div>\n",
        "\n"
      ],
      "metadata": {
        "id": "d1wk2yKoSuyr"
      }
    },
    {
      "cell_type": "markdown",
      "source": [
        "<div dir=rtl>\n",
        "انواع عبارت و به همراه عملگرهای ریاضی در پایتون\n",
        "</div>"
      ],
      "metadata": {
        "id": "-JVymL82S1p7"
      }
    },
    {
      "cell_type": "code",
      "source": [
        "2 ** 3"
      ],
      "metadata": {
        "id": "v7TKGSrGUdEM"
      },
      "execution_count": null,
      "outputs": []
    },
    {
      "cell_type": "code",
      "source": [
        "22 % 8"
      ],
      "metadata": {
        "id": "19QryJzsUwTi"
      },
      "execution_count": null,
      "outputs": []
    },
    {
      "cell_type": "code",
      "source": [
        "22 // 8"
      ],
      "metadata": {
        "id": "uYIWTu3JUxhm"
      },
      "execution_count": null,
      "outputs": []
    },
    {
      "cell_type": "code",
      "source": [
        "22 / 8"
      ],
      "metadata": {
        "id": "Hii3pKrgUzpD"
      },
      "execution_count": null,
      "outputs": []
    },
    {
      "cell_type": "code",
      "source": [
        "3 * 5"
      ],
      "metadata": {
        "id": "OPde_4H7U1bl"
      },
      "execution_count": null,
      "outputs": []
    },
    {
      "cell_type": "code",
      "source": [
        "5 - 2"
      ],
      "metadata": {
        "id": "XleWtAjNU3wT"
      },
      "execution_count": null,
      "outputs": []
    },
    {
      "cell_type": "code",
      "source": [
        "2 + 2"
      ],
      "metadata": {
        "id": "I-ZZA52fU58d"
      },
      "execution_count": null,
      "outputs": []
    },
    {
      "cell_type": "markdown",
      "source": [
        "<div dir=rtl>\n",
        "اولویت عملگر:\n",
        "</br>\n",
        "عملگرهای ریاضی:\n",
        "</br>\n",
        "**\n",
        "</br>\n",
        "%,//,/,*\n",
        "</br>\n",
        "-,+\n",
        "</div>"
      ],
      "metadata": {
        "id": "e2o_C4xGU8_S"
      }
    },
    {
      "cell_type": "code",
      "source": [
        "2 + 3 * 6"
      ],
      "metadata": {
        "id": "mBMNcFz_VRez"
      },
      "execution_count": null,
      "outputs": []
    },
    {
      "cell_type": "code",
      "source": [
        "(2 + 3) * 6"
      ],
      "metadata": {
        "id": "zW3u9yyjVUNh"
      },
      "execution_count": null,
      "outputs": []
    },
    {
      "cell_type": "code",
      "source": [
        "(5 - 1) * ((7 + 1) / (3 - 1))"
      ],
      "metadata": {
        "id": "InxW67PCVVom"
      },
      "execution_count": null,
      "outputs": []
    },
    {
      "cell_type": "code",
      "source": [
        "5 +"
      ],
      "metadata": {
        "id": "PTkVJ6hLVZgQ"
      },
      "execution_count": null,
      "outputs": []
    },
    {
      "cell_type": "markdown",
      "source": [
        "<div dir=rtl>\n",
        "نوع داده (Data types)\n",
        "</br>\n",
        "تا اینجا آموختیم که یک عبارت از مقادیر و عملگرها تشکیل شده است.\n",
        "نوع داده یا datatype یک دسته بندی از مقادیر است\n",
        "</br>\n",
        "هر مقدار به یک دسته تعلق دارد\n",
        "</br>\n",
        "datatypeهای رایج پایتون ، integer, float و stringهستند.\n",
        "</div>"
      ],
      "metadata": {
        "id": "yFork4jKVvTm"
      }
    },
    {
      "cell_type": "markdown",
      "source": [
        "<div dir=rtl>\n",
        "مقادیر متنی (text) دارای نوع stringهستند\n",
        "</br>\n",
        "برای مشخص کردن مقدار string از '' یا \"\" استفاده می شود\n",
        "</div>"
      ],
      "metadata": {
        "id": "TdYR4ki4XmnR"
      }
    },
    {
      "cell_type": "code",
      "source": [
        "''"
      ],
      "metadata": {
        "id": "SbWhX_OPWJ9K"
      },
      "execution_count": null,
      "outputs": []
    },
    {
      "cell_type": "code",
      "source": [
        "'Hello, world!"
      ],
      "metadata": {
        "id": "ExpR9M_xYINF"
      },
      "execution_count": null,
      "outputs": []
    },
    {
      "cell_type": "markdown",
      "source": [
        "<div dir=rtl>\n",
        "معنای عملگرها بر اساس اینکه روی چه نوع مقداری (data type)اعمال می شوند، فرق می کنند.\n",
        "</br>\n",
        "برای مثال + اگر روی دو مقدار از نوع int یا float اعمل شود، به معنای اضافه کردن آنها به یکدیگر است.\n",
        "</br>\n",
        "در صورتیکه روی دو مقدار از نوع رشته تعریف شود، به معنای الحاق آنها است.\n",
        "</div>"
      ],
      "metadata": {
        "id": "FXYPA9_4YBNB"
      }
    },
    {
      "cell_type": "code",
      "source": [
        "'Alice ' + 'Bob'"
      ],
      "metadata": {
        "id": "7NZg1aYcY92d",
        "colab": {
          "base_uri": "https://localhost:8080/",
          "height": 35
        },
        "outputId": "b0ec55d2-52fc-4656-c788-a7731cbbc88a"
      },
      "execution_count": null,
      "outputs": [
        {
          "output_type": "execute_result",
          "data": {
            "text/plain": [
              "'Alice Bob'"
            ],
            "application/vnd.google.colaboratory.intrinsic+json": {
              "type": "string"
            }
          },
          "metadata": {},
          "execution_count": 4
        }
      ]
    },
    {
      "cell_type": "code",
      "source": [
        "'Alice' + 42"
      ],
      "metadata": {
        "id": "gAcobJmKY_dz"
      },
      "execution_count": null,
      "outputs": []
    },
    {
      "cell_type": "code",
      "source": [
        "'Alice' * 5"
      ],
      "metadata": {
        "id": "strq4IaeZEvr",
        "colab": {
          "base_uri": "https://localhost:8080/",
          "height": 35
        },
        "outputId": "7d0ae983-6201-4024-bd1d-ae58199d5e5d"
      },
      "execution_count": null,
      "outputs": [
        {
          "output_type": "execute_result",
          "data": {
            "text/plain": [
              "'AliceAliceAliceAliceAlice'"
            ],
            "application/vnd.google.colaboratory.intrinsic+json": {
              "type": "string"
            }
          },
          "metadata": {},
          "execution_count": 5
        }
      ]
    },
    {
      "cell_type": "code",
      "source": [
        "'Alice' * 'Bob'"
      ],
      "metadata": {
        "id": "h9WTzv10ZHxB"
      },
      "execution_count": null,
      "outputs": []
    },
    {
      "cell_type": "code",
      "source": [
        "'Alice' * 5.0"
      ],
      "metadata": {
        "id": "sJpp_5CkZJ5S"
      },
      "execution_count": null,
      "outputs": []
    },
    {
      "cell_type": "markdown",
      "source": [
        "<div dir=rtl>\n",
        "با استفاده از دستورات int, float یا string  میتوان یک مقدار را به مقدار دیگری تغییر داد.\n",
        "</div>"
      ],
      "metadata": {
        "id": "5ZkfVpIfnE7D"
      }
    },
    {
      "cell_type": "code",
      "source": [
        "int(5.5)\n",
        "float(3)\n",
        "int(\"5\")"
      ],
      "metadata": {
        "id": "AyzyeRfsnWuP",
        "outputId": "104aad27-1516-4583-f7d9-72953a0dff2d",
        "colab": {
          "base_uri": "https://localhost:8080/"
        }
      },
      "execution_count": null,
      "outputs": [
        {
          "output_type": "execute_result",
          "data": {
            "text/plain": [
              "5"
            ]
          },
          "metadata": {},
          "execution_count": 3
        }
      ]
    },
    {
      "cell_type": "markdown",
      "source": [
        "\n",
        "what is the type of 0 ?\n",
        "</br>\n",
        "what is the type of 3.1234\n",
        "</br>\n",
        "what is the type of int(3.99) and what is its results?\n"
      ],
      "metadata": {
        "id": "934trZfWoHay"
      }
    },
    {
      "cell_type": "markdown",
      "source": [
        "<div dir=rtl>\n",
        "ذخیره کردن مقادیر در متغیر:\n",
        "</br>\n",
        "متغیر مانند یک جعبه در حافظه سیستم است که از آن برای ذخیره سازی یک مقدار استفاده می کنیم.\n",
        "اگر بخواهیم حاصل یک عبارت را بعدا در برنامه استفاده کنیم، آنرا در یک متغیر ذخیره می کنیم.\n",
        "</br>\n",
        "در پایتون برخلاف زبان های دیگر مانند جاوا یا سی، لازم نیست که متغیر ابتدا تعریف شود.\n",
        "</br>\n",
        "به محض اینکه مقداری را در یک متغیر قرار دادیم، آن متغیر تعریف شده و نوع متغیر برابر با نوع مقدار قرار داده شده در آن می شود.\n",
        "</br>\n",
        "جمله assignment\n",
        "</br>\n",
        "با استفاده جمله assignment می توان مقداری را در یک متغیر ذخیره کرد.\n",
        "</br>\n",
        "جمله assignment از یک متغیر، عملگر، = و مقدار تشکیل شده است\n",
        "</br>\n",
        "جمله a = 2 بدین معنا است که متغیری به نام a تعریف کرده و مقدار 2 در آن قرار بگیرد.\n",
        "</div>"
      ],
      "metadata": {
        "id": "gfCbp-YmLvj1"
      }
    },
    {
      "cell_type": "code",
      "source": [
        "a = 40\n",
        "b = 10\n",
        "print(a+b)"
      ],
      "metadata": {
        "id": "fP2SDmwvZLsT",
        "colab": {
          "base_uri": "https://localhost:8080/"
        },
        "outputId": "094b3e9c-b411-4123-ba47-80caa00f7983"
      },
      "execution_count": null,
      "outputs": [
        {
          "output_type": "stream",
          "name": "stdout",
          "text": [
            "50\n"
          ]
        }
      ]
    },
    {
      "cell_type": "markdown",
      "source": [
        "<div dir=rtl>\n",
        "اولین باری که مقداری در یک متغیر ریخته می شود، آن متغیر تعریف می شود.\n",
        "نوع متغیربرابر با نوع مقدار ریخته شده در آن است.\n",
        "</br>\n",
        "در صورتیکه مقداری از نوعی دیگر در متغیر ریخته شود، نوع آن ها تغییر می کند.\n",
        "</br>\n",
        "با استفاده از تابع type می توانیم نوع یک متغیر را به دست آوریم.\n",
        "</div>"
      ],
      "metadata": {
        "id": "TtcCt0zJNmRP"
      }
    },
    {
      "cell_type": "code",
      "source": [
        "a = 50\n",
        "print(type(a))\n",
        "a = '50'\n",
        "print(type(a))"
      ],
      "metadata": {
        "id": "XDiZgiZHPCL0"
      },
      "execution_count": null,
      "outputs": []
    },
    {
      "cell_type": "markdown",
      "source": [
        "<div dir=rtl>\n",
        "نام گذاری متغیر:\n",
        "</br>\n",
        "1- نام یک متغیر فقط شامل حرف، عدد و _ است.\n",
        "2- نام می تواند با عدد شروع شود\n",
        "3- حروف بزرگ و کوچک در نام گذاری متغیر ها متفاوت هستند\n",
        "</br>\n",
        "بهتر است، نام متغیر به صورتی باشد که مشخص کننده مقدار ذخیره شده در آن باشد.\n",
        "\n",
        "</div>"
      ],
      "metadata": {
        "id": "ZAK-iZnUPX9S"
      }
    },
    {
      "cell_type": "code",
      "source": [
        "1bnm = 2"
      ],
      "metadata": {
        "id": "ciKdDvZUQm5M"
      },
      "execution_count": null,
      "outputs": []
    },
    {
      "cell_type": "markdown",
      "source": [
        "<div dir=rtl>\n",
        "ایجاد اولین برنامه:\n",
        "</br>\n",
        "برای ایجاد یک برنامه پایتون بهتر است از یک ادیتور استفاده کنیم.\n",
        "</br>\n",
        "می توان از یک ادیتور معمولی مثل notpad یا IDLE استفاده کنیم.\n",
        "یا اینکه می توان از ادیتورهایی که ویژگی های بیشتری در اختیار ما قرار می دهند استفاده کنیم. مانند pycharm یا vscode\n",
        "</br>\n",
        "</div>"
      ],
      "metadata": {
        "id": "MC0nsz9VRIus"
      }
    },
    {
      "cell_type": "markdown",
      "source": [
        "<div dir=rtl>\n",
        "برنامه ای بنویسید که قاعده و ارتفاع مثلث را بگیرد و مساحت آن را به دست آورد.\n",
        "</div>"
      ],
      "metadata": {
        "id": "aVmSregPZlqg"
      }
    },
    {
      "cell_type": "code",
      "source": [
        "h = float(input())\n",
        "d = float(input())\n",
        "\n",
        "area = h * d /2\n",
        "area_r = round(area)\n",
        "print(f\"The area is {area}\")\n",
        "print(f\"The area is {area:0.6f}\")\n",
        "print(f\"The area using round: {area_r}\")\n"
      ],
      "metadata": {
        "id": "kPSs2Uq2Z1Qu",
        "colab": {
          "base_uri": "https://localhost:8080/"
        },
        "outputId": "30b52087-ef3e-4035-961b-859525af85c1"
      },
      "execution_count": null,
      "outputs": [
        {
          "output_type": "stream",
          "name": "stdout",
          "text": [
            "10\n",
            "20\n",
            "The area is 100.0\n",
            "The area is 100.000000\n",
            "The area using round: 100\n"
          ]
        }
      ]
    },
    {
      "cell_type": "markdown",
      "source": [
        "<div dir=rtl>\n",
        "نوع بولین در پایتون دارای دو مقدار True , False است\n",
        "</br>\n",
        "عملگرهای مقایسه در پایتون:\n",
        "</br>\n",
        "==, != , < , >, <= , >=\n",
        "</br>\n",
        "حاصل عبارت هایی که دارای عملگرهای مقایسه ای هستند به True یا Falseارزیابی می شوند.\n",
        "</div>"
      ],
      "metadata": {
        "id": "7Q-fJjB8tEru"
      }
    },
    {
      "cell_type": "code",
      "source": [
        "42 == 42\n",
        "42 != '42'\n",
        "42 = 42"
      ],
      "metadata": {
        "id": "1Uec0Ag5tHSp"
      },
      "execution_count": null,
      "outputs": []
    },
    {
      "cell_type": "markdown",
      "source": [
        "<div dir=rtl>\n",
        "فرق = و == چیست؟\n",
        "</dir>"
      ],
      "metadata": {
        "id": "3ZklribGtS-U"
      }
    },
    {
      "cell_type": "markdown",
      "source": [
        "<div dir=rtl>\n",
        "عملگرهای boolean:\n",
        "</br>\n",
        " عملگرهای بولین and, or , not را در پایتون داریم.\n",
        "</dir>"
      ],
      "metadata": {
        "id": "DzFOpqOhtZ4C"
      }
    },
    {
      "cell_type": "code",
      "source": [
        "(4 < 5) and (5 < 6)"
      ],
      "metadata": {
        "id": "Ny6AbVYntd_b"
      },
      "execution_count": null,
      "outputs": []
    },
    {
      "cell_type": "code",
      "source": [
        "(1 == 2) or (2 == 2)"
      ],
      "metadata": {
        "id": "30O-ZGpBthPP"
      },
      "execution_count": null,
      "outputs": []
    },
    {
      "cell_type": "markdown",
      "source": [
        "<div dir=rtl>\n",
        "رشته در پایتون دنباله ای از کاراکترها می باشد.\n",
        "</br>\n",
        "برای تعریف کردن رشته در پایتون مقدار رشته را درون \" یا ' قرار می دهیم.\n",
        "</br>\n",
        "عملگر های رشته ها\n",
        "</br>\n",
        "+ :\n",
        "</br>\n",
        "* :\n",
        "</br>\n",
        "in :\n",
        "</br>\n",
        "not int :\n",
        "</div>"
      ],
      "metadata": {
        "id": "GlldUteorEkr"
      }
    },
    {
      "cell_type": "code",
      "source": [
        "s1 = 'Hello'\n",
        "s2 = '1 2 3 4 5'\n",
        "s3 = \"48hvf@3\""
      ],
      "metadata": {
        "id": "HOyydNOxr_YT"
      },
      "execution_count": null,
      "outputs": []
    },
    {
      "cell_type": "code",
      "source": [
        "print('He' in s)\n",
        "print('he' in s)\n",
        "print(s1 + s2)\n",
        "print(s1 * s2)"
      ],
      "metadata": {
        "id": "O-0ojC_msCHm"
      },
      "execution_count": null,
      "outputs": []
    },
    {
      "cell_type": "markdown",
      "source": [
        "<div dir=rtl>\n",
        "دسترسی به کاراکترهای رشته ها در پایتون:\n",
        "</br>\n",
        " برای دسترسی به کاراکترهای یک رشته می توانیم از ایندکس آن کاراکتر استفاده کنیم.\n",
        " </br>\n",
        " ایندکس کاراکترهای یک رشته از چپ به راست 0 تا یکی کمتر از طول رشته است\n",
        " </br>\n",
        " ایندکس کاراکترهای یک رشته از راست به چپ از -1 تا -طول رشته است.\n",
        " </br>\n",
        " برای دسترسی به کاراکتر های یک رشته از [] استفاده می کنیم و در داخل [] ایندکس کاراکتر مورد نظر را قرار می دهیم.\n",
        "</div>\n"
      ],
      "metadata": {
        "id": "0pyAMPYKsLe1"
      }
    },
    {
      "cell_type": "code",
      "source": [
        "s = 'Hello'\n",
        "print(s[1])\n",
        "print(s[2]+s[4])\n",
        "print(s[5]*3)"
      ],
      "metadata": {
        "id": "3Uq2bGu0sWmp"
      },
      "execution_count": null,
      "outputs": []
    },
    {
      "cell_type": "markdown",
      "source": [
        "<div dir=rtl>\n",
        "در صورتیکه بخواهیم به یک زیر رشته ای از رشته دست پیدا کنیم می توانیم از عملگر : استفاده کنیم\n",
        "</br>\n",
        "s[n:m]\n",
        "</br>\n",
        "زیر رشته ای از s که با ایندکس شماره n شروع شده و با زیر رشته شماره m-1 خاتمه می یابد را به ما می دهد.\n",
        "</div>"
      ],
      "metadata": {
        "id": "2x77J9l0sgm5"
      }
    },
    {
      "cell_type": "code",
      "source": [
        "s = 'Hi everyone!'\n",
        "#print(s[2:6])\n",
        "#print(s[1:])\n",
        "#print(s[:5])\n",
        "print(s[-7:8])\n",
        "print(s[-7:3])\n",
        "print(s[2:10:2])\n",
        "print(s[:10:2])\n",
        "print(s[::-1])"
      ],
      "metadata": {
        "colab": {
          "base_uri": "https://localhost:8080/"
        },
        "id": "XC-012OSsiuT",
        "outputId": "008e8d10-6fb1-4454-9182-63ecb494d345"
      },
      "execution_count": 4,
      "outputs": [
        {
          "output_type": "stream",
          "name": "stdout",
          "text": [
            "ery\n",
            "\n",
            " vro\n",
            "H vro\n",
            "!enoyreve iH\n"
          ]
        }
      ]
    },
    {
      "cell_type": "markdown",
      "source": [
        "<div dir=rtl>\n",
        "ایندکس یک رشته می تواند با اعداد منفی هم مشخص شود.\n",
        "</br>\n",
        "آخرین کاراکتر یک رشته با ایندکس 1- مشخص می شود.\n",
        "</div>"
      ],
      "metadata": {
        "id": "4eylpbWft7Co"
      }
    },
    {
      "cell_type": "code",
      "source": [
        "s = 'hello'\n",
        "s[-1]"
      ],
      "metadata": {
        "id": "Tl7DTyVguNPB"
      },
      "execution_count": null,
      "outputs": []
    },
    {
      "cell_type": "markdown",
      "source": [
        "<div dir=rtl>\n",
        "با استفاده از تابع len می توان طول یک رشته را به دست آورد.\n",
        "</div>"
      ],
      "metadata": {
        "id": "r4PDePojuf5E"
      }
    },
    {
      "cell_type": "code",
      "source": [],
      "metadata": {
        "id": "li_aZHbqunEg"
      },
      "execution_count": null,
      "outputs": []
    }
  ]
}