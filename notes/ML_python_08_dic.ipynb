{
  "nbformat": 4,
  "nbformat_minor": 0,
  "metadata": {
    "colab": {
      "provenance": [],
      "include_colab_link": true
    },
    "kernelspec": {
      "name": "python3",
      "display_name": "Python 3"
    },
    "language_info": {
      "name": "python"
    }
  },
  "cells": [
    {
      "cell_type": "markdown",
      "metadata": {
        "id": "view-in-github",
        "colab_type": "text"
      },
      "source": [
        "<a href=\"https://colab.research.google.com/github/uiacap/ML_python/blob/main/notes/ML_python_08_dic.ipynb\" target=\"_parent\"><img src=\"https://colab.research.google.com/assets/colab-badge.svg\" alt=\"Open In Colab\"/></a>"
      ]
    },
    {
      "cell_type": "markdown",
      "source": [
        "<div dir = rtl>\n",
        "dictionary نوعی داده در زبان پایتون است که مانند لیست، تاپل و مجموعه برای ذخیره سازی چند مقدار تحت یک نام به کار می رود.\n",
        "</br>\n",
        "در دیکشنری عناصر مانند لیست و تاپل دارای ایندکس هستند، با این تفاوت که ایندکس ها عدد نیستند و هر مقداری که توسط کاربر تعریف می شود، می توانند باشند.\n",
        "</br>\n",
        "در دیکشنری به جای مقادیر، جفت (کلید : مقدار) داریم.\n",
        "</br>\n",
        "در دیکشنری کلیدها نمی توانند تکرار باشند، ولی مقادیر می توانند تکراری باشند\n",
        "</br>\n",
        "برای ایجاد دیکشنری از {} استفاده می کنیم. که در آن key:value داریم.\n",
        "</br>\n",
        "برای دستری به مقادیر دیکشنری از اینکدس مقدار که همان کلید است، استفاده می کنیم\n",
        "</div>"
      ],
      "metadata": {
        "id": "2VjpmzwnBIyP"
      }
    },
    {
      "cell_type": "code",
      "source": [
        "ages = {\"ali\": 12, \"amir\": 13, \"ali\":13}\n",
        "print(ages[\"ali\"])"
      ],
      "metadata": {
        "id": "4GeXZcFsEBaU",
        "colab": {
          "base_uri": "https://localhost:8080/"
        },
        "outputId": "1e26975d-49e1-465c-ac88-3bd76c1388ae"
      },
      "execution_count": null,
      "outputs": [
        {
          "output_type": "stream",
          "name": "stdout",
          "text": [
            "13\n"
          ]
        }
      ]
    },
    {
      "cell_type": "code",
      "source": [
        "a = dict()\n",
        "a = dict({(\"ali\", 12), (\"amir\", 2.3)})\n",
        "print(type(a))\n",
        "print(a[\"ali\"])\n",
        "\n"
      ],
      "metadata": {
        "id": "kp44GQ22EY83",
        "colab": {
          "base_uri": "https://localhost:8080/"
        },
        "outputId": "9184beb1-a20d-4236-d5e0-b560f01eda6b"
      },
      "execution_count": null,
      "outputs": [
        {
          "output_type": "stream",
          "name": "stdout",
          "text": [
            "<class 'dict'>\n",
            "12\n"
          ]
        }
      ]
    },
    {
      "cell_type": "markdown",
      "source": [
        "<div dir=rtl>\n",
        "برای اضافه کردن یک مقدار با کلید key به دیکشنری d بدین شکل عمل می کنیم\n",
        "</br>\n",
        "d[key] = value\n",
        "</br>\n",
        "در صورتی که key در دیکشنری موجود باشد، مقدار آن تغییر می کند ولی اگر وجود نداشته باشد، به دیکشنری اضافه می شود\n",
        "</div>"
      ],
      "metadata": {
        "id": "o-CyeUqIFCZ_"
      }
    },
    {
      "cell_type": "code",
      "source": [
        "ages = {'ali':17}\n",
        "ages['amir'] = 18\n",
        "\n",
        "print(ages)\n"
      ],
      "metadata": {
        "id": "6kvDsdpFFkWR",
        "colab": {
          "base_uri": "https://localhost:8080/"
        },
        "outputId": "1d63d885-2b57-4208-a3b3-d9540ad35d4c"
      },
      "execution_count": null,
      "outputs": [
        {
          "output_type": "stream",
          "name": "stdout",
          "text": [
            "{'ali': 17, 'amir': 18}\n"
          ]
        }
      ]
    },
    {
      "cell_type": "markdown",
      "source": [
        "<div dir=rtl>\n",
        "عملگر in بررسی می کند آیا کلیدی در دیکشنری هست یا خیر\n",
        "</div>"
      ],
      "metadata": {
        "id": "ugyCFYDEFtmz"
      }
    },
    {
      "cell_type": "code",
      "source": [
        "ages = {\"ali\": 12, \"amir\": 13}\n",
        "\"ali\" in ages"
      ],
      "metadata": {
        "id": "srwKw6h2GCSA"
      },
      "execution_count": null,
      "outputs": []
    },
    {
      "cell_type": "markdown",
      "source": [
        "<div dir=rtl>\n",
        "برای حذف یک مقدار از دیکشنری از pop یا del استفاده می شود\n",
        "</br>\n",
        "در صورتیکه کلید داده شده در دیکشنری نباشد، خطا داده می شود.\n",
        "</div>"
      ],
      "metadata": {
        "id": "eypt6iiVGVVz"
      }
    },
    {
      "cell_type": "code",
      "source": [
        "square = {1: 1, 2: 4, 3: 9, 4: 16}\n",
        "del square[1]\n",
        "print(square)\n",
        "square.pop(4)\n",
        "print(square)"
      ],
      "metadata": {
        "id": "SSlbZu0fGoyF",
        "colab": {
          "base_uri": "https://localhost:8080/"
        },
        "outputId": "78098b48-94a5-4a0e-c38a-94ee05dd309c"
      },
      "execution_count": null,
      "outputs": [
        {
          "output_type": "stream",
          "name": "stdout",
          "text": [
            "{2: 4, 3: 9, 4: 16}\n",
            "{2: 4, 3: 9}\n"
          ]
        }
      ]
    },
    {
      "cell_type": "code",
      "source": [
        "birthdays = {'Alice': 'Apr 1', 'Bob': 'Dec 12', 'Carol': 'Mar 4'}\n",
        "while True:\n",
        "  print('Enter a name: (blank to quit)')\n",
        "  name = input()\n",
        "  if name == '':\n",
        "    break\n",
        "  if name in birthdays:\n",
        "    print(birthdays[name] + ' is the birthday of ' + name)\n",
        "  else:\n",
        "    print('I do not have birthday information for ' + name)\n",
        "    print('What is their birthday?')\n",
        "    bday = input()\n",
        "    birthdays[name] = bday\n",
        "    print('Birthday database updated.')"
      ],
      "metadata": {
        "id": "PXutEW5NJsvn"
      },
      "execution_count": null,
      "outputs": []
    },
    {
      "cell_type": "markdown",
      "source": [
        "<div dir=rtl>\n",
        "برای دسترسی به مقدار یک کلید از دیکشنری d، در صورتیکه به شکل d[key] رفتار کنیم و کلید در دیکشنری نباشد، خطا داده میشود.\n",
        "</br>\n",
        "به جای آن می توانیم از متد getاستفاده کنیم.\n",
        "</br>\n",
        "d.get(key, default)\n",
        "</br>\n",
        "در این حالت، در صورتیکه کلید key در دیکشنری باشد، مقدار آن برگردانده می شود و در صورتیکه در دیکشنری نباشد، مقدار default برگردانده می شود.\n",
        "</div>"
      ],
      "metadata": {
        "id": "vyMlAto7HZYt"
      }
    },
    {
      "cell_type": "code",
      "source": [
        "picnicItems = {'apples': 5, 'cups': 2}\n",
        "print('I am bringing ' + str(picnicItems.get('cups', 0)) + ' cups.')\n",
        "print('I am bringing ' + str(picnicItems.get('eggs', 0)) + ' eggs.')\n",
        "#print('I am bringing ' + str(picnicItems['eggs']) + ' eggs.')"
      ],
      "metadata": {
        "id": "kSl28JFjIXhG",
        "colab": {
          "base_uri": "https://localhost:8080/"
        },
        "outputId": "7d2c60a6-efba-4d69-a521-25f0dd95202b"
      },
      "execution_count": null,
      "outputs": [
        {
          "output_type": "stream",
          "name": "stdout",
          "text": [
            "I am bringing 2 cups.\n",
            "I am bringing 0 eggs.\n"
          ]
        }
      ]
    },
    {
      "cell_type": "markdown",
      "source": [
        "<div dir=rtl>\n",
        "س: برنامه ای بنویسید که تعدادی کلمه را تا وقتی که کاربر یک خط خالی وارد نکرده است، از کاربر گرفته و پس از آن هر کلمه را به همراه تعداد تکرارهای آن چاپ کند.\n",
        "</div>"
      ],
      "metadata": {
        "id": "0G2WZ3zZKswp"
      }
    },
    {
      "cell_type": "code",
      "source": [
        "\n"
      ],
      "metadata": {
        "id": "cZbI8H81Lgmq"
      },
      "execution_count": null,
      "outputs": []
    },
    {
      "cell_type": "markdown",
      "source": [
        "<div dir=rtl>\n",
        "متد setdefault\n",
        "</br>\n",
        "یک کلید و یک مقدار پیش فرض  به عنوان ورودی می گیرد. در صورتیکه کلید در دیکشنری موجود نباشد، آنرا ایجاد کرده و مقدار آنرا برابر مقدار پیش فرض قرار داده و مقدار پیش فرض را به عنوان خروجی بر می گرداند.\n",
        "</br>\n",
        "در صورتیکه کلید در دیکشنری موجود باشد، مقدار آنرا بر می گرداند\n",
        "</div>"
      ],
      "metadata": {
        "id": "7GkA3fHAMf60"
      }
    },
    {
      "cell_type": "markdown",
      "source": [
        "<div dir=rtl>\n",
        "س: نوشتن برنامه بالا با استفاده از متد setdefault\n",
        "</div>"
      ],
      "metadata": {
        "id": "z2RbTVnrNHOb"
      }
    },
    {
      "cell_type": "code",
      "source": [
        "rep = {}\n",
        "while True :\n",
        "  word = input()\n",
        "  if word == \"\" :\n",
        "    break\n",
        "  rep.setdefault(word,0)\n",
        "  rep[word] += 1\n",
        "\n",
        "print(rep)\n"
      ],
      "metadata": {
        "id": "CmiHpqvGNOm7"
      },
      "execution_count": null,
      "outputs": []
    },
    {
      "cell_type": "markdown",
      "source": [
        "<div dir=rtl>\n",
        "س: برنامه ای بنویسید که یک پیام را از کاربر گرفته و تعداد کاراکترهای آنرا شمرده و چاپ کند\n",
        "</div>"
      ],
      "metadata": {
        "id": "OW0_Ch53Klo5"
      }
    },
    {
      "cell_type": "code",
      "source": [],
      "metadata": {
        "id": "haM--39XNxmK"
      },
      "execution_count": null,
      "outputs": []
    }
  ]
}