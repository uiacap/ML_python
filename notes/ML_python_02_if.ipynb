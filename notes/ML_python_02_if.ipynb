{
  "nbformat": 4,
  "nbformat_minor": 0,
  "metadata": {
    "colab": {
      "provenance": [],
      "include_colab_link": true
    },
    "kernelspec": {
      "name": "python3",
      "display_name": "Python 3"
    },
    "language_info": {
      "name": "python"
    }
  },
  "cells": [
    {
      "cell_type": "markdown",
      "metadata": {
        "id": "view-in-github",
        "colab_type": "text"
      },
      "source": [
        "<a href=\"https://colab.research.google.com/github/uiacap/ML_python/blob/main/notes/ML_python_02_if.ipynb\" target=\"_parent\"><img src=\"https://colab.research.google.com/assets/colab-badge.svg\" alt=\"Open In Colab\"/></a>"
      ]
    },
    {
      "cell_type": "markdown",
      "source": [
        "<div dir=rtl>\n",
        "جملات شرطی:\n",
        "</br>\n",
        "جملات شرطی از if و سپس condition (عبارتی که به True یا False ارزیابی شود) و سپس : تشکیل شده اند.\n",
        "</div>\n",
        "if condition :\n",
        "</br>\n",
        "  بلوک if"
      ],
      "metadata": {
        "id": "OGff85SDi24_"
      }
    },
    {
      "cell_type": "markdown",
      "source": [
        "<div dir=rtl>\n",
        "بلوک های کد:\n",
        "</br>\n",
        "در پایتون بلوک های کد با تورفتگی ایجاد می شوند\n",
        "</br>\n",
        "</dir>"
      ],
      "metadata": {
        "id": "NcgeMFR1cU2b"
      }
    },
    {
      "cell_type": "code",
      "source": [
        "name = input()\n",
        "if name == 'Alice' :\n",
        "  print(\"Hi, Alice!\")"
      ],
      "metadata": {
        "id": "kvvow9HWiziJ"
      },
      "execution_count": null,
      "outputs": []
    },
    {
      "cell_type": "markdown",
      "source": [
        "<div dir=rtl>\n",
        "کد زیر خطا دارد، زیرا جمله ای که شامل تابع printاست، بدون تورفتگی نوشته شده است.\n",
        "</br>\n",
        "چون جمله قبلی، جمله شامل if است، پایتون انتظار دارد که حداقل یک دستور به عنوان بلوک if داده شده باشد.\n",
        "</div>"
      ],
      "metadata": {
        "id": "1vSfkJh7ESc7"
      }
    },
    {
      "cell_type": "code",
      "source": [
        "name = input()\n",
        "if name == 'Alice' :\n",
        "print(\"Hi, Alice!\")"
      ],
      "metadata": {
        "id": "ZdbkO1LhkTeh"
      },
      "execution_count": null,
      "outputs": []
    },
    {
      "cell_type": "markdown",
      "source": [
        "<div dir=rtl>\n",
        "جملات if شامل else :\n",
        "</div>"
      ],
      "metadata": {
        "id": "tzlJ2ZoRExV0"
      }
    },
    {
      "cell_type": "code",
      "source": [
        "name = input()\n",
        "if name == 'Alice' :\n",
        "  print(\"Hi, Alice!\")\n",
        "else :\n",
        "  print(\"Hello, Stranger!\")"
      ],
      "metadata": {
        "id": "FGAeCYYlkE5J"
      },
      "execution_count": null,
      "outputs": []
    },
    {
      "cell_type": "markdown",
      "source": [
        "<div dir=rtl>\n",
        "در پایتون به جای else if های طولانی که حالت پله ای پیدا خواهند کرد، میتوان از elif استفاده کرد.\n",
        "دو کد زیر معادل هستند. یکی با else if و دیگری با elif نوشته شده است\n",
        "ساختار کلی جمله if, elif مطابق زیر است.\n",
        "در این ساختار ابتدا شرط1 بررسی می شود. در صورتیکه True بود، بلوک 1 اجرا شده و پس از آن next statement اجرا می شود. (یعنی اولین دستور پس از دستور if elif)\n",
        "در صورتیکه شرط 1 (condition1) درست نبود. سراع شرط 2 (condtion 2) می رود.\n",
        "در صورتیکه condition2 برابر با True بود. block2 اجرا شده و پس از آن next statement اجرا می شود.\n",
        "به همین ترتیب ادامه می پیدا می کند. و در صورتیکه که هیچ کدام از شرط ها درست نبود، بلوک n+1 که مربوط به else است، اجرا می شود.\n",
        "در این ساختار داشتن else اختیاری است\n",
        "elif نمی تواند قبل از if یا بعد از else قرار بگیرد.\n",
        "</div>"
      ],
      "metadata": {
        "id": "5c8YkyUFetbu"
      }
    },
    {
      "cell_type": "code",
      "source": [
        "name = input()\n",
        "age = int(input())\n",
        "if name == \"Alice\" :\n",
        "  print(\"Hi, Alice!\")\n",
        "else :\n",
        "  if age < 14 :\n",
        "    print(\"You are not Alice, Kiddo!\")\n",
        "  else:\n",
        "    print(\"You are not Alice\")"
      ],
      "metadata": {
        "id": "M3cdtmfFFbuE"
      },
      "execution_count": null,
      "outputs": []
    },
    {
      "cell_type": "code",
      "source": [
        "name = input()\n",
        "age = int(input())\n",
        "if name == \"Alice\" :\n",
        "  print(\"Hi, Alice!\")\n",
        "elif age < 14 :\n",
        "  print(\"You are not Alice, Kiddo!\")\n",
        "else:\n",
        "  print(\"You are not Alice\")"
      ],
      "metadata": {
        "id": "2c7r7RD6lZGH"
      },
      "execution_count": null,
      "outputs": []
    },
    {
      "cell_type": "markdown",
      "source": [
        "\n",
        "\n",
        "<div dir=rtl>\n",
        "ساختار کلی جمله if, elif مطابق زیر است.\n",
        "</br>\n",
        "در این ساختار ابتدا شرط1 بررسی می شود. در صورتیکه True بود، بلوک 1 اجرا شده و پس از آن next statement اجرا می شود. (یعنی اولین دستور پس از دستور if elif)\n",
        "</br>\n",
        "در صورتیکه شرط 1 (condition1) درست نبود. سراع شرط 2 (condtion 2) می رود.\n",
        "</br>\n",
        "در صورتیکه condition2 برابر با True بود. block2 اجرا شده و پس از آن next statement اجرا می شود.\n",
        "</br>\n",
        "به همین ترتیب ادامه می پیدا می کند. و در صورتیکه که هیچ کدام از شرط ها درست نبود، بلوک n+1 که مربوط به else است، اجرا می شود.\n",
        "</br>\n",
        "در این ساختار داشتن else اختیاری است\n",
        "</br>\n",
        "elif نمی تواند قبل از if یا بعد از else قرار بگیرد.\n",
        "</div>"
      ],
      "metadata": {
        "id": "fPjgVh8-e9rA"
      }
    },
    {
      "cell_type": "code",
      "source": [
        "if condition1 :\n",
        "  <block1>\n",
        "elif conditon2 :\n",
        "  <block2>\n",
        "...\n",
        "elif condition n:\n",
        "  <block n>\n",
        "else:\n",
        "  <block n+1>\n",
        "<next statement>"
      ],
      "metadata": {
        "id": "bIexRzzde-ka"
      },
      "execution_count": null,
      "outputs": []
    },
    {
      "cell_type": "markdown",
      "source": [
        "<div dir=rtl>\n",
        "برنامه ای بنویسید که یک عدد را از کاربر بگیرد و مشخص کند که عدد زوج است یا فرد؟\n",
        "\n",
        "</div>"
      ],
      "metadata": {
        "id": "-7iWKpwNxC9y"
      }
    },
    {
      "cell_type": "markdown",
      "source": [
        "<div dir=rtl>\n",
        "به دست آوردن BMI فرد با گرفتن وزن به کیلوگرم و قد به سانتی متر\n",
        "</br>\n",
        "BMI < 18  : Underweight\n",
        "</br>\n",
        "18-25 : Healthy weight\n",
        "</br>\n",
        "25 < BMI < 30 : over weight\n",
        "</br>\n",
        " 30 <= BMI  : obese\n",
        "</div>"
      ],
      "metadata": {
        "id": "b2N6Ru7nm-Nr"
      }
    },
    {
      "cell_type": "markdown",
      "source": [
        "</br>"
      ],
      "metadata": {
        "id": "Lb0lNqI4qgCC"
      }
    },
    {
      "cell_type": "markdown",
      "source": [
        "<div dir = rtl>\n",
        "س : برنامه ای بنویسید که نمره عددی دانشجو را بر مبنای 100خوانده و با توجه به تبدیل زیر، معادل حرفی آنرا به دست آورد.\n",
        "</br>\n",
        "0-70 : Fail\n",
        "</br>\n",
        "71-80: Good\n",
        "</br>\n",
        "81-90 : very Good\n",
        "</br>\n",
        "91-100 : Excellent\n",
        "</br>\n",
        ">100 یا 0 >: invalide grade\n",
        "</div>"
      ],
      "metadata": {
        "id": "7ZRpmbN7ReeB"
      }
    }
  ]
}