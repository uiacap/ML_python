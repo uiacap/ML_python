{
  "nbformat": 4,
  "nbformat_minor": 0,
  "metadata": {
    "colab": {
      "provenance": [],
      "authorship_tag": "ABX9TyOCW2voLUKVzV2JKDPLxL4l",
      "include_colab_link": true
    },
    "kernelspec": {
      "name": "python3",
      "display_name": "Python 3"
    },
    "language_info": {
      "name": "python"
    }
  },
  "cells": [
    {
      "cell_type": "markdown",
      "metadata": {
        "id": "view-in-github",
        "colab_type": "text"
      },
      "source": [
        "<a href=\"https://colab.research.google.com/github/uiacap/ML_python/blob/main/notes/Ml_python_11_numpy.ipynb\" target=\"_parent\"><img src=\"https://colab.research.google.com/assets/colab-badge.svg\" alt=\"Open In Colab\"/></a>"
      ]
    },
    {
      "cell_type": "markdown",
      "source": [
        " This document is created based on the lecture note of the Machine Learning course by sebastian racshka"
      ],
      "metadata": {
        "id": "LzVW49471SLY"
      }
    },
    {
      "cell_type": "markdown",
      "source": [
        "**NumPy -- Working with Numerical Arrays**\n",
        "<br>\n",
        "\n"
      ],
      "metadata": {
        "id": "vnaYZUOVgUcU"
      }
    },
    {
      "cell_type": "markdown",
      "source": [
        "\n",
        "<div dir=rtl>\n",
        "در این بخش معرفی سریعی از کتابخانه Numpy خواهیم داشت.\n",
        "کتابخانه Numpy  در سال ۲۰۰۵ به عنوان یک کتابخانه سریع برای کار با آرایه های چند بعدی ارائه شد.\n",
        "</br>\n",
        "از آن سال این کتابخانه به یک کتابخانه ضروری برای محاسبات علمی  تبدیل شده است.و زیربنای بسیاری از کتابخانه های دیگر مانند Scipy، Scikit-learn و Pandas می باشد.\n",
        "</br>\n",
        "چیزی که این کتابخانه را جذاب می کند، امکاناتی است که این کتابخانه برای کار با ساختارهای داده ای به صورت آرایه های چندبعدی فراهم می کند و عملیات کار با این ساختارداده ها را به صورت کارآمد فراهم می کند.\n",
        "ساختار داده آرایه در numpy با نام ndarray می باشد که مخفف آرایه n بعدی است.\n",
        "</br>\n",
        "نحوه ذخیره سازی ndarray نسبت به list های python به نحوی است که کارایی آنها در استفاده از حافظه و سرعت پردازش آنها را افزایش می دهد.\n",
        "</br>\n",
        "یکی از تفاوت هایی که آرایه های numpy یعنی ndarray با list دارند این است که آنها اندازه ثابتی دارند و همگن هستند. به این معنی که همه عناصر آنها باید از یک نوع باشند.\n",
        "عملیات روی ndarrayها بسیار کارآمدتر از list ها انجام میشود.\n",
        "ولی تغییر اندازه آنها نسبت به listها در python بسیار هزینه بر و مستلزم ایجاد یک آرایه جدید و کپی کردن محتویات آرایه قبلی در آن است.\n",
        "</br>\n",
        "Numpy برای محاسبات عددی بسیار کارآمدتر از کدهای پایتون عمل می کند و علاوه بر آن به دلیل عملیات برداری و broadcast کدهای آن زیباتر و خواناتر هستند.\n",
        "</br>\n",
        "\n",
        "</div>"
      ],
      "metadata": {
        "id": "V1xUjRCHfnrq"
      }
    },
    {
      "cell_type": "markdown",
      "source": [
        "\n",
        "\n",
        "<div dir=rtl>\n",
        "مقایسه سرعت numpy و list در python\n",
        "\n",
        "</div>"
      ],
      "metadata": {
        "id": "1405gBvNmrND"
      }
    },
    {
      "cell_type": "markdown",
      "source": [
        "<div dir=rtl>\n",
        "تابعی بنویسید که مقدار z=x.T w را محاسبه کند.\n",
        "\n",
        "</div>"
      ],
      "metadata": {
        "id": "7wp_dvYwoDAx"
      }
    },
    {
      "cell_type": "code",
      "execution_count": null,
      "metadata": {
        "id": "W8l8W64ffmx8"
      },
      "outputs": [],
      "source": []
    },
    {
      "cell_type": "code",
      "source": [
        "large_a = list(range(1000))\n",
        "large_b = list(range(1000))\n",
        "\n",
        "%timeit python_list(large_a, large_b)"
      ],
      "metadata": {
        "colab": {
          "base_uri": "https://localhost:8080/"
        },
        "id": "RlJaRTdeo8vH",
        "outputId": "77c8f4dd-e3f8-42c8-de0e-c49323b18ba0"
      },
      "execution_count": null,
      "outputs": [
        {
          "output_type": "stream",
          "name": "stdout",
          "text": [
            "142 µs ± 24.3 µs per loop (mean ± std. dev. of 7 runs, 10000 loops each)\n"
          ]
        }
      ]
    },
    {
      "cell_type": "code",
      "source": [
        "#implementing using numpy\n",
        "import numpy as np\n",
        "\n",
        "\n"
      ],
      "metadata": {
        "colab": {
          "base_uri": "https://localhost:8080/"
        },
        "id": "xtYfoE35qA-v",
        "outputId": "c667fcda-baf5-4301-f144-73b725b7219b"
      },
      "execution_count": null,
      "outputs": [
        {
          "output_type": "stream",
          "name": "stdout",
          "text": [
            "32.0\n"
          ]
        }
      ]
    },
    {
      "cell_type": "code",
      "source": [
        "\n",
        "\n",
        "%timeit numpy_array_dotproduct(large_a, large_b)"
      ],
      "metadata": {
        "colab": {
          "base_uri": "https://localhost:8080/"
        },
        "id": "kguWS8eXqfb8",
        "outputId": "93010d78-aca7-4ff6-f2b9-c3745f6dcb96"
      },
      "execution_count": null,
      "outputs": [
        {
          "output_type": "stream",
          "name": "stdout",
          "text": [
            "2.04 µs ± 66.3 ns per loop (mean ± std. dev. of 7 runs, 100000 loops each)\n"
          ]
        }
      ]
    },
    {
      "cell_type": "markdown",
      "source": [
        "**N-dimentional Arrays**"
      ],
      "metadata": {
        "id": "2P_3gsWqquVj"
      }
    },
    {
      "cell_type": "markdown",
      "source": [
        "<div dir=rtl>\n",
        "Numpy بر اساس اشیا ndarray می باشد. که ساختار داده ای چندبعدی با کارایی بالا است.\n",
        "</br>\n",
        "یک ndarray یک بعدی را می توانیم به عنوان یک vector (بردار) در نظر بگیریم.\n",
        "یا می توان آنرا به شکل یک لیست python با اندازه ثابت و اشیا با نوع یکسان در نظر\n",
        "گرفت.\n",
        "</br>\n",
        "یک ndarray دو بعدی را می توان یک ماتریس در نظر گرفت یا اینکه لیستی از لیست ها در python.\n",
        "\n",
        "</div>"
      ],
      "metadata": {
        "id": "iwd-WdK_q3XT"
      }
    },
    {
      "cell_type": "markdown",
      "source": [
        "<div dir=rtl>\n",
        "در زیر یک ndarray با استفاده از تابع تابع array از یک لیست python ایجاد شده است.\n",
        "</div>"
      ],
      "metadata": {
        "id": "zkZqZ8LPuho8"
      }
    },
    {
      "cell_type": "code",
      "source": [
        "import numpy as np\n",
        "\n",
        "lst = [[1,2,3],[3,4,5]]\n",
        "arry2d = np.array(lst)\n",
        "arry2d"
      ],
      "metadata": {
        "id": "nhee1UiJqqhy",
        "colab": {
          "base_uri": "https://localhost:8080/"
        },
        "outputId": "4e4bec9d-70e1-45a2-cd01-2fae864b1a5a"
      },
      "execution_count": null,
      "outputs": [
        {
          "output_type": "execute_result",
          "data": {
            "text/plain": [
              "array([[1, 2, 3],\n",
              "       [3, 4, 5]])"
            ]
          },
          "metadata": {},
          "execution_count": 6
        }
      ]
    },
    {
      "cell_type": "code",
      "source": [
        "arry2d.dtype"
      ],
      "metadata": {
        "colab": {
          "base_uri": "https://localhost:8080/"
        },
        "id": "pgS0EwkSyLwV",
        "outputId": "06143f4b-7bfb-46e2-cea6-da4087972290"
      },
      "execution_count": null,
      "outputs": [
        {
          "output_type": "execute_result",
          "data": {
            "text/plain": [
              "dtype('int64')"
            ]
          },
          "metadata": {},
          "execution_count": 4
        }
      ]
    },
    {
      "cell_type": "markdown",
      "source": [
        "<div dir=rtl>\n",
        "تغییر type\n",
        "</div>"
      ],
      "metadata": {
        "id": "0WuJLnUnzPlx"
      }
    },
    {
      "cell_type": "code",
      "source": [
        "float32_ary = arry2d.astype(np.float32)\n",
        "float32_ary\n",
        "arry2d"
      ],
      "metadata": {
        "colab": {
          "base_uri": "https://localhost:8080/"
        },
        "id": "6zqW2KCjzVlD",
        "outputId": "7e8beb9a-6f2e-4bfb-e3c8-089a39c6c615"
      },
      "execution_count": null,
      "outputs": [
        {
          "output_type": "execute_result",
          "data": {
            "text/plain": [
              "array([[1, 2, 3],\n",
              "       [3, 4, 5]])"
            ]
          },
          "metadata": {},
          "execution_count": 15
        }
      ]
    },
    {
      "cell_type": "code",
      "source": [
        "#size : return the number of element in ary2d\n",
        "arry2d.size"
      ],
      "metadata": {
        "colab": {
          "base_uri": "https://localhost:8080/"
        },
        "id": "MD5PURQ_zguO",
        "outputId": "c866215b-f240-4444-e677-079998ed9bd2"
      },
      "execution_count": null,
      "outputs": [
        {
          "output_type": "execute_result",
          "data": {
            "text/plain": [
              "6"
            ]
          },
          "metadata": {},
          "execution_count": 18
        }
      ]
    },
    {
      "cell_type": "code",
      "source": [
        "#ndim return the number of dimensions of an array\n",
        "arry2d.ndim"
      ],
      "metadata": {
        "colab": {
          "base_uri": "https://localhost:8080/"
        },
        "id": "dR9LYugu0JzH",
        "outputId": "ae635e63-4b84-4d60-c1dd-807db8e67786"
      },
      "execution_count": null,
      "outputs": [
        {
          "output_type": "execute_result",
          "data": {
            "text/plain": [
              "2"
            ]
          },
          "metadata": {},
          "execution_count": 19
        }
      ]
    },
    {
      "cell_type": "markdown",
      "source": [],
      "metadata": {
        "id": "MMwboJq9AWR-"
      }
    },
    {
      "cell_type": "markdown",
      "source": [
        "<div dir=rtl>\n",
        "برای به دست آوردن تعداد عناصر هر بعد از shape استفاده می کنیم\n",
        "</br>\n",
        "خروجی shape از نوع tuple است\n",
        "</div>"
      ],
      "metadata": {
        "id": "l0LEYXjTzLvs"
      }
    },
    {
      "cell_type": "code",
      "source": [
        "arry2d.shape"
      ],
      "metadata": {
        "colab": {
          "base_uri": "https://localhost:8080/"
        },
        "id": "wiLzi_-u6DN3",
        "outputId": "a23bafee-b745-4c91-a260-87bea7a06431"
      },
      "execution_count": null,
      "outputs": [
        {
          "output_type": "execute_result",
          "data": {
            "text/plain": [
              "(2, 3)"
            ]
          },
          "metadata": {},
          "execution_count": 5
        }
      ]
    },
    {
      "cell_type": "code",
      "source": [
        "np.array([1, 2, 3]).shape"
      ],
      "metadata": {
        "colab": {
          "base_uri": "https://localhost:8080/"
        },
        "id": "eo7oi6RP6qDl",
        "outputId": "2a56316f-1181-4f58-b5a9-c8cc57e6eff4"
      },
      "execution_count": null,
      "outputs": [
        {
          "output_type": "execute_result",
          "data": {
            "text/plain": [
              "(3,)"
            ]
          },
          "metadata": {},
          "execution_count": 6
        }
      ]
    },
    {
      "cell_type": "markdown",
      "source": [
        "**ساخت آرایه**\n",
        "\n",
        "**ساخت آرایه ای از 1 ها یا 0ها**\n",
        "\n"
      ],
      "metadata": {
        "id": "ny9LhJYn6ujV"
      }
    },
    {
      "cell_type": "code",
      "source": [],
      "metadata": {
        "id": "4o-grn-Q7eFO"
      },
      "execution_count": null,
      "outputs": []
    },
    {
      "cell_type": "code",
      "source": [
        "arr1.shape"
      ],
      "metadata": {
        "id": "UTdIMz0q7d9j"
      },
      "execution_count": null,
      "outputs": []
    },
    {
      "cell_type": "code",
      "source": [],
      "metadata": {
        "id": "BBNgZ2b87ws6"
      },
      "execution_count": null,
      "outputs": []
    },
    {
      "cell_type": "markdown",
      "source": [
        "<div dir=rtl>\n",
        "ساخت ماتریس یکه و قطری\n",
        "</div>\n"
      ],
      "metadata": {
        "id": "BPqX3FgQ8dKV"
      }
    },
    {
      "cell_type": "code",
      "source": [],
      "metadata": {
        "id": "96qfTJ7s8kUZ"
      },
      "execution_count": null,
      "outputs": []
    },
    {
      "cell_type": "code",
      "source": [],
      "metadata": {
        "id": "CoS2velV8rWT"
      },
      "execution_count": null,
      "outputs": []
    },
    {
      "cell_type": "markdown",
      "source": [
        "<div dir=rtl>\n",
        "ساخت دنباله ای از اعداد\n",
        "</br>\n",
        "تابع arange در numpy مانند تابع range در python دنباله ای از اعداد را با مشخص نمودن شروع و پایان آن تولید می کند.\n",
        "</div>"
      ],
      "metadata": {
        "id": "UumoZg-a86ZZ"
      }
    },
    {
      "cell_type": "code",
      "source": [
        "np.arange(1,4)"
      ],
      "metadata": {
        "id": "_f3-9MeK96TY"
      },
      "execution_count": null,
      "outputs": []
    },
    {
      "cell_type": "code",
      "source": [
        "np.arange(9)"
      ],
      "metadata": {
        "id": "1u4FDRPy-A5h"
      },
      "execution_count": null,
      "outputs": []
    },
    {
      "cell_type": "code",
      "source": [
        "#make this sequnce [3, ]\n"
      ],
      "metadata": {
        "colab": {
          "base_uri": "https://localhost:8080/"
        },
        "id": "Tv7nQk97-GHN",
        "outputId": "696e7e77-8e7f-419a-a5e5-b700a5e6b6a8"
      },
      "execution_count": null,
      "outputs": [
        {
          "output_type": "execute_result",
          "data": {
            "text/plain": [
              "array([ 3,  7, 11, 15, 19])"
            ]
          },
          "metadata": {},
          "execution_count": 2
        }
      ]
    },
    {
      "cell_type": "markdown",
      "source": [
        "<div dir=rtl>\n",
        "linspace در مواقعی که میخواهیم یک بازه را به تعدادی زیر بازه تقسیم کنیم مفید است.\n",
        "</div>"
      ],
      "metadata": {
        "id": "0yumrPVD-PBQ"
      }
    },
    {
      "cell_type": "code",
      "source": [
        "np.linspace(0,1,num = 5)"
      ],
      "metadata": {
        "colab": {
          "base_uri": "https://localhost:8080/"
        },
        "id": "iLBos6OU-rbz",
        "outputId": "7af3a95d-2a69-41c0-e57a-666fe8e314b8"
      },
      "execution_count": null,
      "outputs": [
        {
          "output_type": "execute_result",
          "data": {
            "text/plain": [
              "array([0.  , 0.25, 0.5 , 0.75, 1.  ])"
            ]
          },
          "metadata": {},
          "execution_count": 22
        }
      ]
    },
    {
      "cell_type": "code",
      "source": [],
      "metadata": {
        "colab": {
          "base_uri": "https://localhost:8080/"
        },
        "id": "OzMmfnin-1XB",
        "outputId": "153e3907-9501-483e-fd3a-20d72ff53fad"
      },
      "execution_count": null,
      "outputs": [
        {
          "output_type": "execute_result",
          "data": {
            "text/plain": [
              "array([1.        , 1.22222222, 1.44444444, 1.66666667, 1.88888889,\n",
              "       2.11111111, 2.33333333, 2.55555556, 2.77777778, 3.        ])"
            ]
          },
          "metadata": {},
          "execution_count": 10
        }
      ]
    },
    {
      "cell_type": "markdown",
      "source": [
        "<div dir=rtl>\n",
        "دسترسی به اعضای یک آرایه از طریق ایندکس دهی همانند ایندکس دهی به لیست ها در پایتون است.\n",
        "</div>"
      ],
      "metadata": {
        "id": "HyGB3ecF_DK8"
      }
    },
    {
      "cell_type": "code",
      "source": [
        "ary = np.array([1,2,3,4,5])\n",
        "ary[0]"
      ],
      "metadata": {
        "colab": {
          "base_uri": "https://localhost:8080/"
        },
        "id": "cOwYPEB-_p3M",
        "outputId": "c7cd1ee8-7d9c-4512-de2c-098762c4c4d0"
      },
      "execution_count": null,
      "outputs": [
        {
          "output_type": "execute_result",
          "data": {
            "text/plain": [
              "1"
            ]
          },
          "metadata": {},
          "execution_count": 29
        }
      ]
    },
    {
      "cell_type": "code",
      "source": [
        "ary[:3]"
      ],
      "metadata": {
        "colab": {
          "base_uri": "https://localhost:8080/"
        },
        "id": "rrM-NYZ4_0Ho",
        "outputId": "d22b00bf-945a-4859-93a8-cab0ad1a43a8"
      },
      "execution_count": null,
      "outputs": [
        {
          "output_type": "execute_result",
          "data": {
            "text/plain": [
              "array([1, 2, 3])"
            ]
          },
          "metadata": {},
          "execution_count": 30
        }
      ]
    },
    {
      "cell_type": "code",
      "source": [
        "ary2 = np.array([[1,2,3],\n",
        "                [4,5,6],\n",
        "                [7,8,9]])\n",
        "ary2[0,0]  #upper left"
      ],
      "metadata": {
        "colab": {
          "base_uri": "https://localhost:8080/"
        },
        "id": "yHxLT2zqAJFd",
        "outputId": "8eb1d1d5-dffa-4f21-e3a5-1a28f7f668d7"
      },
      "execution_count": null,
      "outputs": [
        {
          "output_type": "execute_result",
          "data": {
            "text/plain": [
              "1"
            ]
          },
          "metadata": {},
          "execution_count": 7
        }
      ]
    },
    {
      "cell_type": "code",
      "source": [
        "ary2[1,0]"
      ],
      "metadata": {
        "colab": {
          "base_uri": "https://localhost:8080/"
        },
        "id": "5SRfoD87AjvH",
        "outputId": "b607c850-a619-4af9-b5a9-a375116acbad"
      },
      "execution_count": null,
      "outputs": [
        {
          "output_type": "execute_result",
          "data": {
            "text/plain": [
              "4"
            ]
          },
          "metadata": {},
          "execution_count": 8
        }
      ]
    },
    {
      "cell_type": "code",
      "source": [
        "ary2[-1,-1] #lower right"
      ],
      "metadata": {
        "colab": {
          "base_uri": "https://localhost:8080/"
        },
        "id": "V4-z9MzFAptC",
        "outputId": "59510d80-c656-4552-c5ef-dc7ccb5b1293"
      },
      "execution_count": null,
      "outputs": [
        {
          "output_type": "execute_result",
          "data": {
            "text/plain": [
              "9"
            ]
          },
          "metadata": {},
          "execution_count": 36
        }
      ]
    },
    {
      "cell_type": "code",
      "source": [
        "ary2[:,2] # entire second column"
      ],
      "metadata": {
        "id": "CkwBuIR1EBM1"
      },
      "execution_count": null,
      "outputs": []
    },
    {
      "cell_type": "code",
      "source": [
        "ary2[:,:2]"
      ],
      "metadata": {
        "id": "IpkWv9Z-kFVJ"
      },
      "execution_count": null,
      "outputs": []
    },
    {
      "cell_type": "markdown",
      "source": [
        "Fancy indexing\n",
        "<div dir=rtl>\n",
        "با استفاده از این روش ایندکس دهی می توانیم یک لیست یا تاپلی از عناصری که پشت سر هم نیستند بدهیم. و مقادیر آنها را در قالب یک آرایه داشته باشیم.\n",
        "</div>"
      ],
      "metadata": {
        "id": "eoor2WoV9I0q"
      }
    },
    {
      "cell_type": "code",
      "source": [
        "ary = np.array([[1, 2, 3],\n",
        "                [4, 5, 6]])\n",
        "ary[:, [0, 2]] # first and and last column"
      ],
      "metadata": {
        "colab": {
          "base_uri": "https://localhost:8080/"
        },
        "id": "qXum0Bvn9TqO",
        "outputId": "284267be-a9fd-4311-c846-e89aec3429ad"
      },
      "execution_count": null,
      "outputs": [
        {
          "output_type": "execute_result",
          "data": {
            "text/plain": [
              "array([[1, 3],\n",
              "       [4, 6]])"
            ]
          },
          "metadata": {},
          "execution_count": 2
        }
      ]
    },
    {
      "cell_type": "code",
      "source": [
        "ary[:, [2, 0]] # first and and last column"
      ],
      "metadata": {
        "colab": {
          "base_uri": "https://localhost:8080/"
        },
        "id": "BGzz8leP-HHH",
        "outputId": "cdcf7dcd-f0cc-4a73-d8c7-b6f60281ac3d"
      },
      "execution_count": null,
      "outputs": [
        {
          "output_type": "execute_result",
          "data": {
            "text/plain": [
              "array([[3, 1],\n",
              "       [6, 4]])"
            ]
          },
          "metadata": {},
          "execution_count": 3
        }
      ]
    },
    {
      "cell_type": "markdown",
      "source": [
        "<div dir=rtl>\n",
        "برای ایندکس دهی می توانیم یک آرایه ای از True و False بدهیم و و در نهایت فقط عناصری که True هستند به ما برگردانده شوند.\n",
        "</div>"
      ],
      "metadata": {
        "id": "uJ64kP4r-am_"
      }
    },
    {
      "cell_type": "code",
      "source": [
        "ary = np.array([[1, 2, 3],\n",
        "                [4, 5, 6]])\n",
        "\n",
        "greater3_mask = ary > 3\n",
        "print(greater3_mask)\n",
        "print(type(greater3_mask))\n",
        "#ary[greater3_mask]\n",
        "#ary[[[True, False, True],\n",
        "#     [False, True, True]]]"
      ],
      "metadata": {
        "colab": {
          "base_uri": "https://localhost:8080/"
        },
        "id": "WMZ_HfBc-q_1",
        "outputId": "7330e606-d75c-413c-f338-3cbb78b5d911"
      },
      "execution_count": null,
      "outputs": [
        {
          "output_type": "stream",
          "name": "stdout",
          "text": [
            "[[False False False]\n",
            " [ True  True  True]]\n",
            "<class 'numpy.ndarray'>\n"
          ]
        },
        {
          "output_type": "execute_result",
          "data": {
            "text/plain": [
              "array([1, 3, 5, 6])"
            ]
          },
          "metadata": {},
          "execution_count": 13
        }
      ]
    },
    {
      "cell_type": "code",
      "source": [
        "ary[(ary > 3) & (ary % 2 == 0)]"
      ],
      "metadata": {
        "colab": {
          "base_uri": "https://localhost:8080/"
        },
        "id": "JgGafeB6_xGI",
        "outputId": "3f349c0a-dc29-4755-89d7-7ad1d1a7e6fb"
      },
      "execution_count": null,
      "outputs": [
        {
          "output_type": "execute_result",
          "data": {
            "text/plain": [
              "array([4, 6])"
            ]
          },
          "metadata": {},
          "execution_count": 14
        }
      ]
    },
    {
      "cell_type": "markdown",
      "source": [
        "NumPy provides vectorized wrappers for performing element-wise operations implicitly via so-called ufuncs -- short for universal functions."
      ],
      "metadata": {
        "id": "L7mLFP10HVE3"
      }
    },
    {
      "cell_type": "code",
      "source": [
        "lst = [[1, 2, 3], [4, 5, 6]]\n",
        "\n",
        "for row_idx, row_val in enumerate(lst):\n",
        "    for col_idx, col_val in enumerate(row_val):\n",
        "        lst[row_idx][col_idx] += 1"
      ],
      "metadata": {
        "id": "Ydren6p3GnSU"
      },
      "execution_count": null,
      "outputs": []
    },
    {
      "cell_type": "code",
      "source": [
        "arr = np.array([[1, 2, 3], [4, 5, 6]])\n",
        "np.add(arr, 1)"
      ],
      "metadata": {
        "colab": {
          "base_uri": "https://localhost:8080/"
        },
        "id": "K5AVh_tIHg1N",
        "outputId": "662730ab-fa56-4d1f-f1ef-442dea8f9085"
      },
      "execution_count": null,
      "outputs": [
        {
          "output_type": "execute_result",
          "data": {
            "text/plain": [
              "array([[2, 3, 4],\n",
              "       [5, 6, 7]])"
            ]
          },
          "metadata": {},
          "execution_count": 12
        }
      ]
    },
    {
      "cell_type": "markdown",
      "source": [
        "<div dir=rtl>\n",
        "اعمالی مانند + , - , %, * , ** بدون استفاده از توابع آنها و فقط با استفاده از عملگرها نیز قابل انجام هستند.\n",
        "<div>"
      ],
      "metadata": {
        "id": "Hdd1ecqfHgKL"
      }
    },
    {
      "cell_type": "code",
      "source": [
        "arr + 1"
      ],
      "metadata": {
        "colab": {
          "base_uri": "https://localhost:8080/"
        },
        "id": "qIV2aTB8IVgd",
        "outputId": "a9d9d303-097b-4aae-d280-a4ad0efa6c17"
      },
      "execution_count": null,
      "outputs": [
        {
          "output_type": "execute_result",
          "data": {
            "text/plain": [
              "array([[2, 3, 4],\n",
              "       [5, 6, 7]])"
            ]
          },
          "metadata": {},
          "execution_count": 41
        }
      ]
    },
    {
      "cell_type": "code",
      "source": [
        "arr ** 2"
      ],
      "metadata": {
        "colab": {
          "base_uri": "https://localhost:8080/"
        },
        "id": "Y1KsxyjVIbOI",
        "outputId": "6785f512-1f07-47fe-e890-a6d100120406"
      },
      "execution_count": null,
      "outputs": [
        {
          "output_type": "execute_result",
          "data": {
            "text/plain": [
              "array([[ 1,  4,  9],\n",
              "       [16, 25, 36]])"
            ]
          },
          "metadata": {},
          "execution_count": 42
        }
      ]
    },
    {
      "cell_type": "markdown",
      "source": [
        "<div dir=rtl>\n",
        "توابع بالا دو متغیره هستند در numpy توابع یک متغیره ای مانند log, 1og10, sqrt نیز پیاده سازی شده و قابل استفاده هستند.\n",
        "</div>"
      ],
      "metadata": {
        "id": "gLzGUkuQI_3f"
      }
    },
    {
      "cell_type": "code",
      "source": [],
      "metadata": {
        "colab": {
          "base_uri": "https://localhost:8080/"
        },
        "id": "vXmeJbcDIrqv",
        "outputId": "46cb5f6e-8965-437a-cd55-14fba8530db6"
      },
      "execution_count": null,
      "outputs": [
        {
          "output_type": "execute_result",
          "data": {
            "text/plain": [
              "array([[0.        , 0.69314718, 1.09861229],\n",
              "       [1.38629436, 1.60943791, 1.79175947]])"
            ]
          },
          "metadata": {},
          "execution_count": 44
        }
      ]
    },
    {
      "cell_type": "code",
      "source": [],
      "metadata": {
        "colab": {
          "base_uri": "https://localhost:8080/"
        },
        "id": "fi4BnlZDJRjV",
        "outputId": "c72990a3-3847-431a-b237-f9382b47fb40"
      },
      "execution_count": null,
      "outputs": [
        {
          "output_type": "execute_result",
          "data": {
            "text/plain": [
              "array([[1.        , 1.41421356, 1.73205081],\n",
              "       [2.        , 2.23606798, 2.44948974]])"
            ]
          },
          "metadata": {},
          "execution_count": 46
        }
      ]
    },
    {
      "cell_type": "markdown",
      "source": [
        "<div dir=rtl>\n",
        "اگر مثلا بخواهیم جمع عناصر یک ستون یا یک ردیف را به دست آوریم از reduce استفاده می کنیم.\n",
        "</br>\n",
        "در این حالت با استفاده از تعیین axis باید مشخص کنیم که کدام بعد reduce شود. که پیش فرض بعد اول یعنی همان ردیف ها است.\n",
        "<div>"
      ],
      "metadata": {
        "id": "6MRv87XoKQi9"
      }
    },
    {
      "cell_type": "code",
      "source": [
        "print(arr)\n",
        "np.add.reduce(arr)"
      ],
      "metadata": {
        "colab": {
          "base_uri": "https://localhost:8080/"
        },
        "id": "WDpLP9uwKo4V",
        "outputId": "a171fc5c-9eaf-47b7-82aa-0d507c285254"
      },
      "execution_count": null,
      "outputs": [
        {
          "output_type": "stream",
          "name": "stdout",
          "text": [
            "[[1 2 3]\n",
            " [4 5 6]]\n"
          ]
        },
        {
          "output_type": "execute_result",
          "data": {
            "text/plain": [
              "array([5, 7, 9])"
            ]
          },
          "metadata": {},
          "execution_count": 13
        }
      ]
    },
    {
      "cell_type": "code",
      "source": [
        "np.add.reduce(arr, axis=1)"
      ],
      "metadata": {
        "colab": {
          "base_uri": "https://localhost:8080/"
        },
        "id": "LtpZ4u9vK6GT",
        "outputId": "2f456171-9b67-4fd8-ee82-f64def5ceef7"
      },
      "execution_count": null,
      "outputs": [
        {
          "output_type": "execute_result",
          "data": {
            "text/plain": [
              "array([ 6, 15])"
            ]
          },
          "metadata": {},
          "execution_count": 52
        }
      ]
    },
    {
      "cell_type": "code",
      "source": [
        "np.subtract.reduce(arr,axis = 0)"
      ],
      "metadata": {
        "colab": {
          "base_uri": "https://localhost:8080/"
        },
        "id": "8lJFGWKrNe3-",
        "outputId": "693a28ac-6828-4a5d-fa8c-5163e87e133a"
      },
      "execution_count": null,
      "outputs": [
        {
          "output_type": "execute_result",
          "data": {
            "text/plain": [
              "array([-3, -3, -3])"
            ]
          },
          "metadata": {},
          "execution_count": 65
        }
      ]
    },
    {
      "cell_type": "markdown",
      "source": [
        "<div dir=rtl>\n",
        "در numpy عملیات بالا را می توان خلاصه تر هم نوشت\n",
        "</div>"
      ],
      "metadata": {
        "id": "oYgTbYDeLJco"
      }
    },
    {
      "cell_type": "code",
      "source": [
        "ary = np.array([[1,2,3],\n",
        "                [4,5,6]])\n",
        "ary.sum(axis = 0) #column sum"
      ],
      "metadata": {
        "colab": {
          "base_uri": "https://localhost:8080/"
        },
        "id": "h03ecxInLSiV",
        "outputId": "54e02b37-06c0-4f37-b72f-00a7ab4ad240"
      },
      "execution_count": null,
      "outputs": [
        {
          "output_type": "execute_result",
          "data": {
            "text/plain": [
              "array([5, 7, 9])"
            ]
          },
          "metadata": {},
          "execution_count": 60
        }
      ]
    },
    {
      "cell_type": "code",
      "source": [
        "ary.sum()"
      ],
      "metadata": {
        "colab": {
          "base_uri": "https://localhost:8080/"
        },
        "id": "dnR9fpKuLtSh",
        "outputId": "119de0c2-b0bb-4a60-da36-63596d98aefb"
      },
      "execution_count": null,
      "outputs": [
        {
          "output_type": "execute_result",
          "data": {
            "text/plain": [
              "21"
            ]
          },
          "metadata": {},
          "execution_count": 62
        }
      ]
    },
    {
      "cell_type": "code",
      "source": [],
      "metadata": {
        "colab": {
          "base_uri": "https://localhost:8080/"
        },
        "id": "V41RQUSTMwcn",
        "outputId": "b93c6920-10bb-4580-ddd5-ed0129844e0d"
      },
      "execution_count": null,
      "outputs": [
        {
          "output_type": "execute_result",
          "data": {
            "text/plain": [
              "array([-3, -3, -3])"
            ]
          },
          "metadata": {},
          "execution_count": 63
        }
      ]
    },
    {
      "cell_type": "markdown",
      "source": [
        "Other useful unary ufuncs are:\n",
        "\n",
        "\n",
        "\n",
        "*   np.mean (computes arithmetic average)\n",
        "*   np.std (computes the standard deviation)\n",
        "*   np.var (computes variance)\n",
        "*   np.sort (sorts an array)\n",
        "*   np.argsort (returns indices that would sort an array)\n",
        "*   np.min (returns the minimum value of an array)\n",
        "*   np.max (returns the maximum value of an array)\n",
        "*   np.argmin (returns the index of the minimum value)\n",
        "*   np.argmax (returns the index of the maximum value)\n",
        "*   np.array_equal (checks if two arrays have the same shape and elements)\n"
      ],
      "metadata": {
        "id": "XfDo6xmQNzK7"
      }
    },
    {
      "cell_type": "markdown",
      "source": [
        "**broadcasting**"
      ],
      "metadata": {
        "id": "xLWGdZ8JOhJi"
      }
    },
    {
      "cell_type": "code",
      "source": [
        "np.array([1,2,3]) + 1"
      ],
      "metadata": {
        "colab": {
          "base_uri": "https://localhost:8080/"
        },
        "id": "T0aXEvG7NFXV",
        "outputId": "26235ba8-6077-4c2e-e72d-dacda5f3b926"
      },
      "execution_count": null,
      "outputs": [
        {
          "output_type": "execute_result",
          "data": {
            "text/plain": [
              "array([2, 3, 4])"
            ]
          },
          "metadata": {},
          "execution_count": 67
        }
      ]
    },
    {
      "cell_type": "code",
      "source": [
        "arr1 = np.array([1,2,3])\n",
        "arr2 = np.array([4,5,6])\n",
        "\n",
        "arr1  + arr2"
      ],
      "metadata": {
        "colab": {
          "base_uri": "https://localhost:8080/"
        },
        "id": "rbGmM86JOuzo",
        "outputId": "2282ad9f-7655-4120-e1a2-204184e04c62"
      },
      "execution_count": null,
      "outputs": [
        {
          "output_type": "execute_result",
          "data": {
            "text/plain": [
              "array([5, 7, 9])"
            ]
          },
          "metadata": {},
          "execution_count": 68
        }
      ]
    },
    {
      "cell_type": "code",
      "source": [
        "arr3 = np.array([[1,2,3],\n",
        "                 [4,5,6]])\n",
        "\n",
        "arr3 + arr1"
      ],
      "metadata": {
        "colab": {
          "base_uri": "https://localhost:8080/"
        },
        "id": "w1fYBGN8O65d",
        "outputId": "1dd84535-3f5a-424c-9885-3679b30bd8c7"
      },
      "execution_count": null,
      "outputs": [
        {
          "output_type": "execute_result",
          "data": {
            "text/plain": [
              "array([[2, 4, 6],\n",
              "       [5, 7, 9]])"
            ]
          },
          "metadata": {},
          "execution_count": 69
        }
      ]
    },
    {
      "cell_type": "markdown",
      "source": [
        "**Random Number Generators**\n",
        "<div dir=rtl>\n",
        "در یادگیری ماشین، بسیار پیش می آید که نیاز داشته باشیم آرایه ای از اعداد تصادفی ایجاد کنیم.\n",
        "</br>\n",
        "مثلا در مقداردهی اولیه به پارامترهای مدل ها اعداد تصادفی اختصاص دهیم.\n",
        "</br>\n",
        "numpy دارای که پکیج random است که با استفاده از توابع آن می توانیم اعداد تصادفی ایجاد کنیم.\n",
        "</br>\n",
        "تابع rand به تعداد مشخص شده اعداد از توزیع uniform ایجاد می کند.\n",
        "\n",
        "</div>"
      ],
      "metadata": {
        "id": "zaR3OTlCPFXH"
      }
    },
    {
      "cell_type": "code",
      "source": [
        "np.random.seed(123)\n",
        "np.random.rand(3)\n",
        "\n",
        "\n"
      ],
      "metadata": {
        "colab": {
          "base_uri": "https://localhost:8080/"
        },
        "id": "rtzh-WtzJLDN",
        "outputId": "3d1a17ba-fdef-4afd-d243-2538764b2ffc"
      },
      "execution_count": null,
      "outputs": [
        {
          "output_type": "execute_result",
          "data": {
            "text/plain": [
              "array([0.69646919, 0.28613933, 0.22685145])"
            ]
          },
          "metadata": {},
          "execution_count": 9
        }
      ]
    },
    {
      "cell_type": "markdown",
      "source": [
        "The example below shows how we can use a RandomState object to create the same results that we obtained via np.random.rand in the previous code snippet"
      ],
      "metadata": {
        "id": "ul4tseP_qVfp"
      }
    },
    {
      "cell_type": "code",
      "source": [
        "rng = np.random.RandomState(123)\n",
        "rng.rand(3)\n",
        "#x = rng.normal(0, 20, 1000)"
      ],
      "metadata": {
        "id": "ZJ3E1KDbpmBr"
      },
      "execution_count": null,
      "outputs": []
    },
    {
      "cell_type": "markdown",
      "source": [
        "<div dir=rtl>\n",
        "تابع randn اعداد تصادفی را توزیع نرمال ایجاد می کند.\n",
        "</div>"
      ],
      "metadata": {
        "id": "SgifC7KRLjzh"
      }
    },
    {
      "cell_type": "code",
      "source": [
        "random_array = np.random.randn(2,5)"
      ],
      "metadata": {
        "id": "sT1HIH3ULdPe"
      },
      "execution_count": null,
      "outputs": []
    },
    {
      "cell_type": "markdown",
      "source": [
        "**Reshaping NumPy Arrays**\n",
        "<div dir=rtl>\n",
        "در عمل ممکن است مواردی داشته باشیم که بخواهیم شکل آرایه را عوض کنیم.\n",
        "و همانطور که می دانیم در numpy طول آرایه ها تغییر نمی کند.\n",
        "</br>\n",
        "Numpy متد reshape را برای تغییر دید به یک آرایه ارائه کرده است.\n",
        "</br>\n",
        "برای مثال در زیر یک آرایه یک بعدی را به شکل دوبعدی در آورده ایم.\n",
        "</div>"
      ],
      "metadata": {
        "id": "tZgDanpsL3HG"
      }
    },
    {
      "cell_type": "code",
      "source": [
        "ary1d = np.array([1, 2, 3, 4, 5, 6])\n",
        "ary2d_view = ary1d.reshape(2, 3)\n",
        "ary2d_view"
      ],
      "metadata": {
        "colab": {
          "base_uri": "https://localhost:8080/"
        },
        "id": "Ggip8QrBM7HF",
        "outputId": "d86627d7-a001-4699-dcf0-07c53d13c55f"
      },
      "execution_count": null,
      "outputs": [
        {
          "output_type": "execute_result",
          "data": {
            "text/plain": [
              "array([[1, 2, 3],\n",
              "       [4, 5, 6]])"
            ]
          },
          "metadata": {},
          "execution_count": 12
        }
      ]
    },
    {
      "cell_type": "markdown",
      "source": [
        "<div dir=rtl>\n",
        "در عملیات reshape می توانیم طول یکی از ابعاد را مشخص نکنیم و numpy خودش آنرا تشخیص دهید.\n",
        "این کار را با قرار دادن 1- انجام می دهیم.\n",
        "</div>"
      ],
      "metadata": {
        "id": "S-ealOZSNN8d"
      }
    },
    {
      "cell_type": "code",
      "source": [
        "ary1d.reshape(2, -1)"
      ],
      "metadata": {
        "colab": {
          "base_uri": "https://localhost:8080/"
        },
        "id": "5tBfiFeDNNQR",
        "outputId": "4b823a9f-d3f3-4571-9f44-4887bdc06fd6"
      },
      "execution_count": null,
      "outputs": [
        {
          "output_type": "execute_result",
          "data": {
            "text/plain": [
              "array([[1, 2, 3],\n",
              "       [4, 5, 6]])"
            ]
          },
          "metadata": {},
          "execution_count": 13
        }
      ]
    },
    {
      "cell_type": "code",
      "source": [
        "#change the above array to an array that have 2 column\n"
      ],
      "metadata": {
        "colab": {
          "base_uri": "https://localhost:8080/"
        },
        "id": "VfPGMcccNum-",
        "outputId": "2e467267-77cd-4036-e25a-70df7d088074"
      },
      "execution_count": null,
      "outputs": [
        {
          "output_type": "execute_result",
          "data": {
            "text/plain": [
              "array([[1, 2],\n",
              "       [3, 4],\n",
              "       [5, 6]])"
            ]
          },
          "metadata": {},
          "execution_count": 14
        }
      ]
    },
    {
      "cell_type": "markdown",
      "source": [
        "<div dir=rtl>\n",
        "استفاده از numpy برای یک بعدی کردن یا به اصطلاح flat کردن آرایه ها\n",
        "</div>"
      ],
      "metadata": {
        "id": "z2Ka2uuFN3mk"
      }
    },
    {
      "cell_type": "code",
      "source": [
        "ary = np.array([[[1, 2, 3],\n",
        "                [4, 5, 6]]])\n",
        "\n",
        "ary.reshape(-1)"
      ],
      "metadata": {
        "colab": {
          "base_uri": "https://localhost:8080/"
        },
        "id": "asRfftrSN0_F",
        "outputId": "99855065-c085-4bff-fdd3-2c4f0a1582e4"
      },
      "execution_count": null,
      "outputs": [
        {
          "output_type": "execute_result",
          "data": {
            "text/plain": [
              "array([1, 2, 3, 4, 5, 6])"
            ]
          },
          "metadata": {},
          "execution_count": 15
        }
      ]
    },
    {
      "cell_type": "markdown",
      "source": [
        "np.where"
      ],
      "metadata": {
        "id": "gQkuctuzOFAI"
      }
    },
    {
      "cell_type": "code",
      "source": [
        "np.where(ary > 2, 1, 0)"
      ],
      "metadata": {
        "id": "pobB4KslP6qB"
      },
      "execution_count": null,
      "outputs": []
    },
    {
      "cell_type": "code",
      "source": [
        "ary = np.array([1, 2, 3, 4])\n",
        "mask = ary > 2\n",
        "ary[mask] = 1\n",
        "ary[~mask] = 0\n",
        "ary"
      ],
      "metadata": {
        "id": "CgNZenMmP72G"
      },
      "execution_count": null,
      "outputs": []
    },
    {
      "cell_type": "markdown",
      "source": [
        "<div dir=rtl>\n",
        "عملگر ~ که دز بالا استفاده شده است، یکی از عملگرهای منطقی در numpy است.\n",
        "</div>\n"
      ],
      "metadata": {
        "id": "mLlQeJyxP-v7"
      }
    },
    {
      "cell_type": "markdown",
      "source": [
        "**Linear Algebra with NumPy Arrays**"
      ],
      "metadata": {
        "id": "IufbQ1UTQmuo"
      }
    },
    {
      "cell_type": "markdown",
      "source": [
        "<div dir=rtl>\n",
        "یک آرایه یک بعدی در Numpy مانند یک بردار سطری است.\n",
        "</div>"
      ],
      "metadata": {
        "id": "BjuAW8WCQryT"
      }
    },
    {
      "cell_type": "code",
      "source": [
        "row_vector = np.array([1, 2, 3])\n",
        "row_vector"
      ],
      "metadata": {
        "colab": {
          "base_uri": "https://localhost:8080/"
        },
        "id": "WK8pB1BLP-D1",
        "outputId": "f1e14c58-97fe-40c7-c552-54b1d3402482"
      },
      "execution_count": null,
      "outputs": [
        {
          "output_type": "execute_result",
          "data": {
            "text/plain": [
              "array([1, 2, 3])"
            ]
          },
          "metadata": {},
          "execution_count": 26
        }
      ]
    },
    {
      "cell_type": "code",
      "source": [
        "column_vector = np.array([[1, 2, 3]]).reshape(-1, 1)\n",
        "column_vector"
      ],
      "metadata": {
        "colab": {
          "base_uri": "https://localhost:8080/"
        },
        "id": "gylsO2kxRPto",
        "outputId": "1f3ccec8-9090-4cb4-8567-e8cd58353fa7"
      },
      "execution_count": null,
      "outputs": [
        {
          "output_type": "execute_result",
          "data": {
            "text/plain": [
              "array([[1],\n",
              "       [2],\n",
              "       [3]])"
            ]
          },
          "metadata": {},
          "execution_count": 17
        }
      ]
    },
    {
      "cell_type": "markdown",
      "source": [
        "<div dir=rtl>\n",
        "از تابع matmul برای انجام ضرب ماتریسی استفاده می کنیم.\n",
        "</div>"
      ],
      "metadata": {
        "id": "b9700Xv4lkYY"
      }
    },
    {
      "cell_type": "code",
      "source": [
        "m1 = np.array([[1,2,3],\n",
        "               [4,5,6]])"
      ],
      "metadata": {
        "id": "iXmgaMmpl81m"
      },
      "execution_count": null,
      "outputs": []
    },
    {
      "cell_type": "code",
      "source": [
        "np.matmul(m1, column_vector)\n"
      ],
      "metadata": {
        "colab": {
          "base_uri": "https://localhost:8080/"
        },
        "id": "2sP21IKOmQOk",
        "outputId": "51fb1a7a-c0b1-474f-a92a-047ccc11fb59"
      },
      "execution_count": null,
      "outputs": [
        {
          "output_type": "execute_result",
          "data": {
            "text/plain": [
              "array([[14],\n",
              "       [32]])"
            ]
          },
          "metadata": {},
          "execution_count": 20
        }
      ]
    },
    {
      "cell_type": "code",
      "source": [
        "np.dot(row_vector, row_vector)"
      ],
      "metadata": {
        "colab": {
          "base_uri": "https://localhost:8080/"
        },
        "id": "pqNc25NHt_h6",
        "outputId": "5795b87c-4b4c-4395-9cf8-18bec1722395"
      },
      "execution_count": null,
      "outputs": [
        {
          "output_type": "execute_result",
          "data": {
            "text/plain": [
              "14"
            ]
          },
          "metadata": {},
          "execution_count": 30
        }
      ]
    },
    {
      "cell_type": "code",
      "source": [
        "print(m1)\n",
        "m1.transpose()"
      ],
      "metadata": {
        "colab": {
          "base_uri": "https://localhost:8080/"
        },
        "id": "1Lf4IjVuwOjo",
        "outputId": "9a3b7017-80df-43bf-c216-0f0211f60e9b"
      },
      "execution_count": null,
      "outputs": [
        {
          "output_type": "stream",
          "name": "stdout",
          "text": [
            "[[1 2 3]\n",
            " [4 5 6]]\n"
          ]
        },
        {
          "output_type": "execute_result",
          "data": {
            "text/plain": [
              "array([[1, 4],\n",
              "       [2, 5],\n",
              "       [3, 6]])"
            ]
          },
          "metadata": {},
          "execution_count": 39
        }
      ]
    },
    {
      "cell_type": "code",
      "source": [
        "print(m1)\n",
        "m1.T"
      ],
      "metadata": {
        "colab": {
          "base_uri": "https://localhost:8080/"
        },
        "id": "et-Z3lr1wcmm",
        "outputId": "d3af0b1f-6128-4a14-d5e2-f2b2a5df8aa2"
      },
      "execution_count": null,
      "outputs": [
        {
          "output_type": "stream",
          "name": "stdout",
          "text": [
            "[[1 2 3]\n",
            " [4 5 6]]\n"
          ]
        },
        {
          "output_type": "execute_result",
          "data": {
            "text/plain": [
              "array([[1, 4],\n",
              "       [2, 5],\n",
              "       [3, 6]])"
            ]
          },
          "metadata": {},
          "execution_count": 41
        }
      ]
    },
    {
      "cell_type": "markdown",
      "source": [
        "<div dir=rtl>\n",
        "برای مطالعه بیشتر در مورد تابع های جبر خطی در numpy می توانید به اسناد linalg در لینک زیر مراجعه نمایید.\n",
        "</div>\n",
        "(https://docs.scipy.org/doc/scipy/reference/linalg.html)"
      ],
      "metadata": {
        "id": "I9yLRSwnw-d5"
      }
    },
    {
      "cell_type": "markdown",
      "source": [
        "**Matplotlib**\n",
        "<div dir=rtl>\n",
        "\n",
        "</div>"
      ],
      "metadata": {
        "id": "0gt1Z8pNxkNS"
      }
    },
    {
      "cell_type": "code",
      "source": [
        "import matplotlib.pyplot as plt"
      ],
      "metadata": {
        "id": "FKHbJCwfxjrV"
      },
      "execution_count": 3,
      "outputs": []
    },
    {
      "cell_type": "markdown",
      "source": [
        "<div dir=rtl>\n",
        "توابع اصلی نمودار در ماژول pyplot است.\n",
        "</br>\n",
        "خط %matplotlib inline بدین معنا است که نمودارها در jupyter notbook نشان داده شود.\n",
        "\n",
        "</div>"
      ],
      "metadata": {
        "id": "2_sMkn4R01g2"
      }
    },
    {
      "cell_type": "markdown",
      "source": [
        "**Plotting Functions and Lines**"
      ],
      "metadata": {
        "id": "sLDmeAxo2hLa"
      }
    },
    {
      "cell_type": "code",
      "source": [
        "import numpy as np\n",
        "x = np.linspace(0, 10, 100)\n",
        "#plt.plot(x, np.sin(x))\n",
        "#plt.show()"
      ],
      "metadata": {
        "id": "Yc-bfEOd2gqj"
      },
      "execution_count": 5,
      "outputs": []
    },
    {
      "cell_type": "markdown",
      "source": [
        "axis ranges and labels"
      ],
      "metadata": {
        "id": "5WsXfQwl3ed2"
      }
    },
    {
      "cell_type": "code",
      "source": [
        "x = np.linspace(0, 10, 100)\n",
        "#plt.plot(x, np.sin(x))\n",
        "\n",
        "plt.xlim([2, 8])\n",
        "plt.ylim([0, 0.75])\n",
        "\n",
        "plt.xlabel('x-axis')\n",
        "plt.ylabel('y-axis')\n",
        "\n",
        "#plt.show()"
      ],
      "metadata": {
        "colab": {
          "base_uri": "https://localhost:8080/",
          "height": 466
        },
        "id": "Dm4vnI1c3fnR",
        "outputId": "9e1546d5-4c4e-43dd-bef8-13167a2ec999"
      },
      "execution_count": 7,
      "outputs": [
        {
          "output_type": "execute_result",
          "data": {
            "text/plain": [
              "Text(0, 0.5, 'y-axis')"
            ]
          },
          "metadata": {},
          "execution_count": 7
        },
        {
          "output_type": "display_data",
          "data": {
            "text/plain": [
              "<Figure size 640x480 with 1 Axes>"
            ],
            "image/png": "[encoded data removed]"
          },
          "metadata": {}
        }
      ]
    },
    {
      "cell_type": "code",
      "source": [
        "x = np.linspace(0, 10, 100)\n",
        "\n",
        "#plt.plot(x, np.sin(x), label=('sin(x)'))\n",
        "#plt.plot(x, np.cos(x), label=('cos(x)'))\n",
        "\n",
        "plt.ylabel('f(x)')\n",
        "plt.xlabel('x')\n",
        "\n",
        "plt.legend(loc='lower left')\n",
        "#plt.show()"
      ],
      "metadata": {
        "colab": {
          "base_uri": "https://localhost:8080/",
          "height": 510
        },
        "id": "iT2RZS0734tc",
        "outputId": "be9992e7-977b-48ea-a93c-b88c6080c39c"
      },
      "execution_count": 8,
      "outputs": [
        {
          "output_type": "stream",
          "name": "stderr",
          "text": [
            "WARNING:matplotlib.legend:No artists with labels found to put in legend.  Note that artists whose label start with an underscore are ignored when legend() is called with no argument.\n"
          ]
        },
        {
          "output_type": "execute_result",
          "data": {
            "text/plain": [
              "<matplotlib.legend.Legend at 0x7f757df784c0>"
            ]
          },
          "metadata": {},
          "execution_count": 8
        },
        {
          "output_type": "display_data",
          "data": {
            "text/plain": [
              "<Figure size 640x480 with 1 Axes>"
            ],
            "image/png": "[encoded data removed]"
          },
          "metadata": {}
        }
      ]
    },
    {
      "cell_type": "markdown",
      "source": [
        "**Scatter Plots**"
      ],
      "metadata": {
        "id": "dRbvpxIy4Au1"
      }
    },
    {
      "cell_type": "code",
      "source": [
        "x = np.random.randn(500)\n",
        "y = np.random.randn(500)\n",
        "\n",
        "#plt.scatter(x, y)\n",
        "#plt.show()"
      ],
      "metadata": {
        "id": "K3_3WfPB4DdL"
      },
      "execution_count": 9,
      "outputs": []
    },
    {
      "cell_type": "markdown",
      "source": [
        "**Bar Plots**"
      ],
      "metadata": {
        "id": "J0GHcOOg4zrC"
      }
    },
    {
      "cell_type": "code",
      "source": [
        "# input data\n",
        "means = [1, 2, 3]\n",
        "bar_labels = ['bar 1', 'bar 2', 'bar 3']\n",
        "\n",
        "\n",
        "# plot bars\n",
        "\n",
        "#plt.bar(bar_labels,means)\n",
        "\n",
        "#plt.show()"
      ],
      "metadata": {
        "id": "gKp1qq9K4zEK"
      },
      "execution_count": 13,
      "outputs": []
    },
    {
      "cell_type": "markdown",
      "source": [
        "**Histograms**"
      ],
      "metadata": {
        "id": "mlvddZ-S5Nfz"
      }
    },
    {
      "cell_type": "code",
      "source": [
        "rng = np.random.RandomState(123)\n",
        "x = rng.normal(0, 20, 1000)\n",
        "\n",
        "# fixed bin size\n",
        "bins = np.arange(-100, 100, 5) # fixed bin size\n",
        "\n",
        "plt.hist(x, bins=bins)\n",
        "plt.show()"
      ],
      "metadata": {
        "colab": {
          "base_uri": "https://localhost:8080/",
          "height": 430
        },
        "id": "oaVBmcCL5M5m",
        "outputId": "6fdcbe80-561c-4813-c426-d49c6b868700"
      },
      "execution_count": null,
      "outputs": [
        {
          "output_type": "display_data",
          "data": {
            "text/plain": [
              "<Figure size 640x480 with 1 Axes>"
            ],
            "image/png": "[encoded data removed]"
          },
          "metadata": {}
        }
      ]
    },
    {
      "cell_type": "code",
      "source": [
        "rng = np.random.RandomState(123)\n",
        "x1 = rng.normal(0, 20, 1000)\n",
        "x2 = rng.normal(15, 10, 1000)\n",
        "\n",
        "# fixed bin size\n",
        "bins = np.arange(-100, 100, 5) # fixed bin size\n",
        "\n"
      ],
      "metadata": {
        "id": "BpLh0xZb5_M1"
      },
      "execution_count": 18,
      "outputs": []
    },
    {
      "cell_type": "code",
      "source": [
        "x = range(11)\n",
        "y = range(11)\n",
        "\n",
        "fig, ax = plt.subplots(nrows=2, ncols=3,\n",
        "                       sharex=False, sharey=False)\n",
        "\n",
        "for row in ax:\n",
        "    for col in row:\n",
        "\n",
        "        col.plot(x, y)\n",
        "\n",
        "\n",
        "\n",
        "plt.show()"
      ],
      "metadata": {
        "colab": {
          "base_uri": "https://localhost:8080/",
          "height": 430
        },
        "id": "qO2BN0lg6VhW",
        "outputId": "32f24466-0eb1-4a3f-b0d7-1fc060a5380e"
      },
      "execution_count": 26,
      "outputs": [
        {
          "output_type": "display_data",
          "data": {
            "text/plain": [
              "<Figure size 640x480 with 6 Axes>"
            ],
            "image/png": "[encoded data removed]"
          },
          "metadata": {}
        }
      ]
    },
    {
      "cell_type": "markdown",
      "source": [
        "**Colors and Markers**"
      ],
      "metadata": {
        "id": "mCg63Xcw6ydx"
      }
    },
    {
      "cell_type": "code",
      "source": [
        "x = np.linspace(0, 10, 100)\n",
        "plt.plot(x, np.sin(x),\n",
        "         color='orange',\n",
        "         marker='^',\n",
        "         linestyle='')\n",
        "plt.show()"
      ],
      "metadata": {
        "colab": {
          "base_uri": "https://localhost:8080/",
          "height": 430
        },
        "id": "nFIO3_Pm61pc",
        "outputId": "5b730d4e-bc6e-4690-c68a-7d3364b9ee25"
      },
      "execution_count": null,
      "outputs": [
        {
          "output_type": "display_data",
          "data": {
            "text/plain": [
              "<Figure size 640x480 with 1 Axes>"
            ],
            "image/png": "[encoded data removed]"
          },
          "metadata": {}
        }
      ]
    },
    {
      "cell_type": "markdown",
      "source": [
        "**Saving Plots**"
      ],
      "metadata": {
        "id": "Wkwb03Z769sM"
      }
    },
    {
      "cell_type": "code",
      "source": [
        "x = np.linspace(0, 10, 100)\n",
        "plt.plot(x, np.sin(x))\n",
        "\n",
        "plt.savefig('myplot.png', dpi=300)\n",
        "plt.savefig('myplot.pdf')\n",
        "\n",
        "plt.show()"
      ],
      "metadata": {
        "id": "nbxEl8gC69Co",
        "outputId": "7cf1b935-8faf-4133-8397-b267ed22f7a5",
        "colab": {
          "base_uri": "https://localhost:8080/",
          "height": 430
        }
      },
      "execution_count": null,
      "outputs": [
        {
          "output_type": "display_data",
          "data": {
            "text/plain": [
              "<Figure size 640x480 with 1 Axes>"
            ],
            "image/png": "[encoded data removed]"
          },
          "metadata": {}
        }
      ]
    }
  ]
}