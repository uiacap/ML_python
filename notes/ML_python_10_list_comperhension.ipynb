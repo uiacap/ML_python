{
  "nbformat": 4,
  "nbformat_minor": 0,
  "metadata": {
    "colab": {
      "provenance": [],
      "include_colab_link": true
    },
    "kernelspec": {
      "name": "python3",
      "display_name": "Python 3"
    },
    "language_info": {
      "name": "python"
    }
  },
  "cells": [
    {
      "cell_type": "markdown",
      "metadata": {
        "id": "view-in-github",
        "colab_type": "text"
      },
      "source": [
        "<a href=\"https://colab.research.google.com/github/uiacap/ML_python/blob/main/notes/ML_python_10_list_comperhension.ipynb\" target=\"_parent\"><img src=\"https://colab.research.google.com/assets/colab-badge.svg\" alt=\"Open In Colab\"/></a>"
      ]
    },
    {
      "cell_type": "markdown",
      "source": [
        "<div dir=rtl>\n",
        "با استفاده از list comperhension یا معرف لیست می توانیم لیست را بر اساس الگوی خاصی یا از روی لیست های دیگر بسازیم\n",
        "</div>"
      ],
      "metadata": {
        "id": "N8PMGyWrZ16y"
      }
    },
    {
      "cell_type": "code",
      "execution_count": null,
      "metadata": {
        "id": "eeXgM-BJZUjC",
        "colab": {
          "base_uri": "https://localhost:8080/"
        },
        "outputId": "d3d505c9-6953-44c7-e9f7-01203a3f0539"
      },
      "outputs": [
        {
          "output_type": "stream",
          "name": "stdout",
          "text": [
            "[1, 8, 27, 64, 125, 216, 343, 512, 729, 1000]\n"
          ]
        }
      ],
      "source": [
        "qubes = []  # 1 8 27 ..., 1000\n",
        "for x in range(1,11):\n",
        "  qubes.append(x**3)\n",
        "print(qubes)"
      ]
    },
    {
      "cell_type": "code",
      "source": [
        "qubes = [x**3 for x in range(1,11)]\n",
        "print(qubes)"
      ],
      "metadata": {
        "id": "S9Vt8CRdaqa4",
        "colab": {
          "base_uri": "https://localhost:8080/"
        },
        "outputId": "e0e7527d-b85a-4ffb-cc14-6e5a92ce9102"
      },
      "execution_count": null,
      "outputs": [
        {
          "output_type": "stream",
          "name": "stdout",
          "text": [
            "[1, 8, 27, 64, 125, 216, 343, 512, 729, 1000]\n"
          ]
        }
      ]
    },
    {
      "cell_type": "markdown",
      "source": [
        "<div dir=rtl>\n",
        "در یک معرف لیست، ابتدا یک عبارت داده می شود که لیست بر اساس آن عبارت ساخته می شود.\n",
        "</br>\n",
        "در صورتیکه عبارت شامل متغیر باشد، پس از دادن عبارت باید تعیین کنید که از چه رنجی انتحاب شود که این کار را به دستور for و ifمی توان انجام داد.\n",
        "</dir>"
      ],
      "metadata": {
        "id": "2fFj-LX5a-Zi"
      }
    },
    {
      "cell_type": "code",
      "source": [
        "#create a list of even numbers between 10 to 30\n"
      ],
      "metadata": {
        "id": "RBlLdpwUbYdB"
      },
      "execution_count": null,
      "outputs": []
    },
    {
      "cell_type": "code",
      "source": [
        "print([x+y for x in range(10) for y in range(5)])"
      ],
      "metadata": {
        "id": "xl5kS-jRbcVW",
        "colab": {
          "base_uri": "https://localhost:8080/"
        },
        "outputId": "b905a7b8-a84a-440e-cfa9-7cf29052228b"
      },
      "execution_count": null,
      "outputs": [
        {
          "output_type": "stream",
          "name": "stdout",
          "text": [
            "[0, 1, 2, 3, 4, 1, 2, 3, 4, 5, 2, 3, 4, 5, 6, 3, 4, 5, 6, 7, 4, 5, 6, 7, 8, 5, 6, 7, 8, 9, 6, 7, 8, 9, 10, 7, 8, 9, 10, 11, 8, 9, 10, 11, 12, 9, 10, 11, 12, 13]\n"
          ]
        }
      ]
    },
    {
      "cell_type": "code",
      "source": [
        "print([str(x)+y for x in [1,2,3] for y in ['A','B']])"
      ],
      "metadata": {
        "id": "GxQY6rSfcHbb",
        "colab": {
          "base_uri": "https://localhost:8080/"
        },
        "outputId": "2f5d5d7b-2621-42b1-c6d2-fcbe4ac39d15"
      },
      "execution_count": null,
      "outputs": [
        {
          "output_type": "stream",
          "name": "stdout",
          "text": [
            "['1A', '1B', '2A', '2B', '3A', '3B']\n"
          ]
        }
      ]
    },
    {
      "cell_type": "code",
      "source": [
        "[(x, y) for x in [1, 2, 3] for y in [1, 2, 3] if x != y]"
      ],
      "metadata": {
        "id": "JVvqDKa0a97J",
        "colab": {
          "base_uri": "https://localhost:8080/"
        },
        "outputId": "162e50ca-a5ad-4964-f1c3-220a4b0b6d17"
      },
      "execution_count": null,
      "outputs": [
        {
          "output_type": "execute_result",
          "data": {
            "text/plain": [
              "[(1, 2), (1, 3), (2, 1), (2, 3), (3, 1), (3, 2)]"
            ]
          },
          "metadata": {},
          "execution_count": 7
        }
      ]
    },
    {
      "cell_type": "markdown",
      "source": [
        "<div dir=rtl>\n",
        "لیستی تولید کنید که به ازای مقادیر مثبت data،و x^2 را تولید کند\n",
        "</div>"
      ],
      "metadata": {
        "id": "Z_YDZm8jeYq9"
      }
    },
    {
      "cell_type": "code",
      "source": [
        "# using if else [expression if condition else expression for]\n",
        "data = [10, -4, 53, 122, 0]\n"
      ],
      "metadata": {
        "id": "sOE_pkk1cjxz"
      },
      "execution_count": null,
      "outputs": []
    },
    {
      "cell_type": "code",
      "source": [],
      "metadata": {
        "id": "DxXWjFkUtfYq"
      },
      "execution_count": null,
      "outputs": []
    },
    {
      "cell_type": "code",
      "source": [
        "#change every string in the list below to string that have the first upper case charachter\n",
        "fruits = [\"apple\", \"banana\", \"cherry\", \"kiwi\", \"mango\"]\n",
        "\n",
        "#change the list so that only fruit name that contain 'a' is included\n"
      ],
      "metadata": {
        "id": "TYU-E5Xngv2h"
      },
      "execution_count": null,
      "outputs": []
    },
    {
      "cell_type": "markdown",
      "source": [
        "<div dir=rtl>\n",
        "یک ماتریس دارای m سطرو n ستون با مقادیر اولیه 0\n",
        "</div>"
      ],
      "metadata": {
        "id": "x-cWTrntZ8lU"
      }
    },
    {
      "cell_type": "code",
      "source": [
        "m = 3\n",
        "n = 3\n",
        "\n",
        "mat = [[0 for x in range(n)]for y in range(m)]\n",
        "print(mat)\n",
        "\n"
      ],
      "metadata": {
        "id": "5nAkzzJMe3Wh"
      },
      "execution_count": null,
      "outputs": []
    },
    {
      "cell_type": "markdown",
      "source": [],
      "metadata": {
        "id": "2jJK6KyXbXfY"
      }
    }
  ]
}